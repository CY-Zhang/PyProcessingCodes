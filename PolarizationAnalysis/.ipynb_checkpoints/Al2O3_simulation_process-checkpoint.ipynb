{
 "cells": [
  {
   "cell_type": "code",
   "execution_count": 35,
   "metadata": {},
   "outputs": [],
   "source": [
    "import glob,os\n",
    "import scipy.io as sio\n",
    "import scipy.misc as smisc\n",
    "import numpy as np\n",
    "import math\n",
    "import matplotlib.pyplot as plt\n",
    "import scipy\n",
    "import csv"
   ]
  },
  {
   "cell_type": "code",
   "execution_count": 44,
   "metadata": {},
   "outputs": [
    {
     "name": "stdout",
     "output_type": "stream",
     "text": [
      "(184, 184, 1)\n",
      "/srv/home/chenyu/Al2O3_simulation/Test/*slice0_*.npy\n",
      "/srv/home/chenyu/Al2O3_simulation/Test/*slice1_*.npy\n",
      "/srv/home/chenyu/Al2O3_simulation/Test/*slice2_*.npy\n",
      "/srv/home/chenyu/Al2O3_simulation/Test/*slice3_*.npy\n",
      "/srv/home/chenyu/Al2O3_simulation/Test/*slice4_*.npy\n",
      "/srv/home/chenyu/Al2O3_simulation/Test/*slice5_*.npy\n",
      "/srv/home/chenyu/Al2O3_simulation/Test/*slice6_*.npy\n",
      "/srv/home/chenyu/Al2O3_simulation/Test/*slice7_*.npy\n",
      "/srv/home/chenyu/Al2O3_simulation/Test/*slice8_*.npy\n",
      "/srv/home/chenyu/Al2O3_simulation/Test/*slice9_*.npy\n",
      "/srv/home/chenyu/Al2O3_simulation/Test/*slice10_*.npy\n",
      "/srv/home/chenyu/Al2O3_simulation/Test/*slice11_*.npy\n",
      "/srv/home/chenyu/Al2O3_simulation/Test/*slice12_*.npy\n",
      "/srv/home/chenyu/Al2O3_simulation/Test/*slice13_*.npy\n",
      "/srv/home/chenyu/Al2O3_simulation/Test/*slice14_*.npy\n",
      "/srv/home/chenyu/Al2O3_simulation/Test/*slice15_*.npy\n",
      "/srv/home/chenyu/Al2O3_simulation/Test/*slice16_*.npy\n",
      "/srv/home/chenyu/Al2O3_simulation/Test/*slice17_*.npy\n",
      "/srv/home/chenyu/Al2O3_simulation/Test/*slice18_*.npy\n",
      "/srv/home/chenyu/Al2O3_simulation/Test/*slice19_*.npy\n",
      "/srv/home/chenyu/Al2O3_simulation/Test/*slice20_*.npy\n",
      "/srv/home/chenyu/Al2O3_simulation/Test/*slice21_*.npy\n",
      "/srv/home/chenyu/Al2O3_simulation/Test/*slice22_*.npy\n",
      "/srv/home/chenyu/Al2O3_simulation/Test/*slice23_*.npy\n",
      "/srv/home/chenyu/Al2O3_simulation/Test/*slice24_*.npy\n",
      "/srv/home/chenyu/Al2O3_simulation/Test/*slice25_*.npy\n",
      "/srv/home/chenyu/Al2O3_simulation/Test/*slice26_*.npy\n",
      "/srv/home/chenyu/Al2O3_simulation/Test/*slice27_*.npy\n",
      "/srv/home/chenyu/Al2O3_simulation/Test/*slice28_*.npy\n",
      "/srv/home/chenyu/Al2O3_simulation/Test/*slice29_*.npy\n",
      "/srv/home/chenyu/Al2O3_simulation/Test/*slice30_*.npy\n",
      "/srv/home/chenyu/Al2O3_simulation/Test/*slice31_*.npy\n",
      "/srv/home/chenyu/Al2O3_simulation/Test/*slice32_*.npy\n",
      "/srv/home/chenyu/Al2O3_simulation/Test/*slice33_*.npy\n",
      "/srv/home/chenyu/Al2O3_simulation/Test/*slice34_*.npy\n",
      "/srv/home/chenyu/Al2O3_simulation/Test/*slice35_*.npy\n",
      "/srv/home/chenyu/Al2O3_simulation/Test/*slice36_*.npy\n",
      "/srv/home/chenyu/Al2O3_simulation/Test/*slice37_*.npy\n",
      "/srv/home/chenyu/Al2O3_simulation/Test/*slice38_*.npy\n",
      "/srv/home/chenyu/Al2O3_simulation/Test/*slice39_*.npy\n",
      "/srv/home/chenyu/Al2O3_simulation/Test/*slice40_*.npy\n",
      "/srv/home/chenyu/Al2O3_simulation/Test/*slice41_*.npy\n",
      "/srv/home/chenyu/Al2O3_simulation/Test/*slice42_*.npy\n",
      "/srv/home/chenyu/Al2O3_simulation/Test/*slice43_*.npy\n",
      "/srv/home/chenyu/Al2O3_simulation/Test/*slice44_*.npy\n",
      "/srv/home/chenyu/Al2O3_simulation/Test/*slice45_*.npy\n",
      "/srv/home/chenyu/Al2O3_simulation/Test/*slice46_*.npy\n",
      "/srv/home/chenyu/Al2O3_simulation/Test/*slice47_*.npy\n",
      "/srv/home/chenyu/Al2O3_simulation/Test/*slice48_*.npy\n",
      "/srv/home/chenyu/Al2O3_simulation/Test/*slice49_*.npy\n",
      "/srv/home/chenyu/Al2O3_simulation/Test/*slice50_*.npy\n",
      "/srv/home/chenyu/Al2O3_simulation/Test/*slice51_*.npy\n",
      "/srv/home/chenyu/Al2O3_simulation/Test/*slice52_*.npy\n",
      "/srv/home/chenyu/Al2O3_simulation/Test/*slice53_*.npy\n",
      "/srv/home/chenyu/Al2O3_simulation/Test/*slice54_*.npy\n",
      "/srv/home/chenyu/Al2O3_simulation/Test/*slice55_*.npy\n",
      "/srv/home/chenyu/Al2O3_simulation/Test/*slice56_*.npy\n",
      "/srv/home/chenyu/Al2O3_simulation/Test/*slice57_*.npy\n",
      "/srv/home/chenyu/Al2O3_simulation/Test/*slice58_*.npy\n",
      "/srv/home/chenyu/Al2O3_simulation/Test/*slice59_*.npy\n",
      "/srv/home/chenyu/Al2O3_simulation/Test/*slice60_*.npy\n",
      "/srv/home/chenyu/Al2O3_simulation/Test/*slice61_*.npy\n",
      "/srv/home/chenyu/Al2O3_simulation/Test/*slice62_*.npy\n",
      "/srv/home/chenyu/Al2O3_simulation/Test/*slice63_*.npy\n",
      "/srv/home/chenyu/Al2O3_simulation/Test/*slice64_*.npy\n",
      "/srv/home/chenyu/Al2O3_simulation/Test/*slice65_*.npy\n",
      "/srv/home/chenyu/Al2O3_simulation/Test/*slice66_*.npy\n",
      "/srv/home/chenyu/Al2O3_simulation/Test/*slice67_*.npy\n",
      "/srv/home/chenyu/Al2O3_simulation/Test/*slice68_*.npy\n",
      "/srv/home/chenyu/Al2O3_simulation/Test/*slice69_*.npy\n",
      "/srv/home/chenyu/Al2O3_simulation/Test/*slice70_*.npy\n",
      "/srv/home/chenyu/Al2O3_simulation/Test/*slice71_*.npy\n",
      "/srv/home/chenyu/Al2O3_simulation/Test/*slice72_*.npy\n",
      "/srv/home/chenyu/Al2O3_simulation/Test/*slice73_*.npy\n",
      "/srv/home/chenyu/Al2O3_simulation/Test/*slice74_*.npy\n",
      "/srv/home/chenyu/Al2O3_simulation/Test/*slice75_*.npy\n",
      "/srv/home/chenyu/Al2O3_simulation/Test/*slice76_*.npy\n",
      "/srv/home/chenyu/Al2O3_simulation/Test/*slice77_*.npy\n",
      "/srv/home/chenyu/Al2O3_simulation/Test/*slice78_*.npy\n",
      "/srv/home/chenyu/Al2O3_simulation/Test/*slice79_*.npy\n",
      "/srv/home/chenyu/Al2O3_simulation/Test/*slice80_*.npy\n",
      "/srv/home/chenyu/Al2O3_simulation/Test/*slice81_*.npy\n",
      "/srv/home/chenyu/Al2O3_simulation/Test/*slice82_*.npy\n",
      "/srv/home/chenyu/Al2O3_simulation/Test/*slice83_*.npy\n",
      "/srv/home/chenyu/Al2O3_simulation/Test/*slice84_*.npy\n",
      "/srv/home/chenyu/Al2O3_simulation/Test/*slice85_*.npy\n",
      "/srv/home/chenyu/Al2O3_simulation/Test/*slice86_*.npy\n",
      "/srv/home/chenyu/Al2O3_simulation/Test/*slice87_*.npy\n",
      "/srv/home/chenyu/Al2O3_simulation/Test/*slice88_*.npy\n",
      "/srv/home/chenyu/Al2O3_simulation/Test/*slice89_*.npy\n",
      "/srv/home/chenyu/Al2O3_simulation/Test/*slice90_*.npy\n",
      "/srv/home/chenyu/Al2O3_simulation/Test/*slice91_*.npy\n",
      "/srv/home/chenyu/Al2O3_simulation/Test/*slice92_*.npy\n",
      "/srv/home/chenyu/Al2O3_simulation/Test/*slice93_*.npy\n",
      "/srv/home/chenyu/Al2O3_simulation/Test/*slice94_*.npy\n",
      "/srv/home/chenyu/Al2O3_simulation/Test/*slice95_*.npy\n",
      "/srv/home/chenyu/Al2O3_simulation/Test/*slice96_*.npy\n",
      "/srv/home/chenyu/Al2O3_simulation/Test/*slice97_*.npy\n",
      "/srv/home/chenyu/Al2O3_simulation/Test/*slice98_*.npy\n",
      "/srv/home/chenyu/Al2O3_simulation/Test/*slice99_*.npy\n",
      "/srv/home/chenyu/Al2O3_simulation/Test/*slice100_*.npy\n",
      "/srv/home/chenyu/Al2O3_simulation/Test/*slice101_*.npy\n",
      "/srv/home/chenyu/Al2O3_simulation/Test/*slice102_*.npy\n",
      "/srv/home/chenyu/Al2O3_simulation/Test/*slice103_*.npy\n",
      "/srv/home/chenyu/Al2O3_simulation/Test/*slice104_*.npy\n",
      "/srv/home/chenyu/Al2O3_simulation/Test/*slice105_*.npy\n",
      "/srv/home/chenyu/Al2O3_simulation/Test/*slice106_*.npy\n",
      "/srv/home/chenyu/Al2O3_simulation/Test/*slice107_*.npy\n",
      "/srv/home/chenyu/Al2O3_simulation/Test/*slice108_*.npy\n",
      "/srv/home/chenyu/Al2O3_simulation/Test/*slice109_*.npy\n",
      "/srv/home/chenyu/Al2O3_simulation/Test/*slice110_*.npy\n",
      "/srv/home/chenyu/Al2O3_simulation/Test/*slice111_*.npy\n",
      "/srv/home/chenyu/Al2O3_simulation/Test/*slice112_*.npy\n",
      "/srv/home/chenyu/Al2O3_simulation/Test/*slice113_*.npy\n",
      "/srv/home/chenyu/Al2O3_simulation/Test/*slice114_*.npy\n",
      "/srv/home/chenyu/Al2O3_simulation/Test/*slice115_*.npy\n",
      "/srv/home/chenyu/Al2O3_simulation/Test/*slice116_*.npy\n",
      "/srv/home/chenyu/Al2O3_simulation/Test/*slice117_*.npy\n",
      "/srv/home/chenyu/Al2O3_simulation/Test/*slice118_*.npy\n",
      "/srv/home/chenyu/Al2O3_simulation/Test/*slice119_*.npy\n",
      "/srv/home/chenyu/Al2O3_simulation/Test/*slice120_*.npy\n",
      "/srv/home/chenyu/Al2O3_simulation/Test/*slice121_*.npy\n",
      "/srv/home/chenyu/Al2O3_simulation/Test/*slice122_*.npy\n",
      "/srv/home/chenyu/Al2O3_simulation/Test/*slice123_*.npy\n",
      "/srv/home/chenyu/Al2O3_simulation/Test/*slice124_*.npy\n"
     ]
    },
    {
     "data": {
      "image/png": "[encoded data removed]",
      "text/plain": [
       "<Figure size 432x288 with 1 Axes>"
      ]
     },
     "metadata": {},
     "output_type": "display_data"
    }
   ],
   "source": [
    "path = '/srv/home/chenyu/Al2O3_simulation/Test/'\n",
    "nslice = 125\n",
    "sample = np.load(path + 'Al2O3_slice40_X5_Y13_FPavg.npy')\n",
    "print(sample.shape)\n",
    "plt.imshow(np.squeeze(sample))\n",
    "PACBED_stack = np.zeros((184,184,nslice))\n",
    "for islice in range(nslice):\n",
    "    file_pattern = path + '*slice' + str(islice) + '_*.npy'\n",
    "    print(file_pattern)\n",
    "    file_list = glob.glob(file_pattern)\n",
    "    for ifile in range(len(file_list)):\n",
    "        PACBED_stack[:,:,islice] = PACBED_stack[:,:,islice] + np.squeeze(np.load(file_list[ifile]))"
   ]
  },
  {
   "cell_type": "code",
   "execution_count": 46,
   "metadata": {},
   "outputs": [],
   "source": [
    "np.save(path+'PACBED_stack.npy',PACBED_stack)"
   ]
  },
  {
   "cell_type": "code",
   "execution_count": 13,
   "metadata": {},
   "outputs": [],
   "source": [
    "def readCBEDfromMRC(fname):\n",
    "    f = open(fname, 'rb')\n",
    "    count = 10\n",
    "    b = f.read(count*4)\n",
    "    data_types = {0:np.uint8,1:np.intc,2:np.float32,6:np.uint16}\n",
    "    c = np.frombuffer(b, dtype=np.int32,count=count)\n",
    "    data_size = c[:3]\n",
    "    data_type = data_types[c[3]]\n",
    "\n",
    "    f.seek(1024)\n",
    "\n",
    "    count = data_size[0]*data_size[1]*data_size[2]\n",
    "    cbed = f.read(count*4)\n",
    "    cbed_arr = np.frombuffer(cbed,dtype=data_type,count=count)\n",
    "    cbed_arr = np.reshape(cbed_arr,tuple(data_size))\n",
    "    f.close\n",
    "    f.closed\n",
    "    return cbed_arr"
   ]
  },
  {
   "cell_type": "code",
   "execution_count": 30,
   "metadata": {},
   "outputs": [
    {
     "data": {
      "text/plain": [
       "False"
      ]
     },
     "execution_count": 30,
     "metadata": {},
     "output_type": "execute_result"
    },
    {
     "data": {
      "image/png": "[encoded data removed]",
      "text/plain": [
       "<Figure size 432x288 with 1 Axes>"
      ]
     },
     "metadata": {},
     "output_type": "display_data"
    }
   ],
   "source": [
    "fname = path + 'Al2O3_slice86_X4_Y1_FP1.mrc'\n",
    "f = open(fname, 'rb')\n",
    "count = 10\n",
    "b = f.read(count*4)\n",
    "data_types = {0:np.uint8,1:np.intc,2:np.float32,6:np.uint16}\n",
    "c = np.frombuffer(b, dtype=np.int32,count=count)\n",
    "data_size = c[:3]\n",
    "data_type = data_types[c[3]]\n",
    "\n",
    "f.seek(1024)\n",
    "\n",
    "count = data_size[0]*data_size[1]*data_size[2]\n",
    "cbed = f.read(count*4)\n",
    "cbed_arr = np.frombuffer(cbed,dtype=data_type,count=count)\n",
    "cbed_arr = np.reshape(cbed_arr,(224,184))\n",
    "plt.imshow(cbed_arr[0:184,0:184])\n",
    "f.close\n",
    "f.closed"
   ]
  },
  {
   "cell_type": "code",
   "execution_count": 26,
   "metadata": {},
   "outputs": [
    {
     "data": {
      "text/plain": [
       "(184, 224, 1)"
      ]
     },
     "execution_count": 26,
     "metadata": {},
     "output_type": "execute_result"
    }
   ],
   "source": [
    "tuple(data_size)"
   ]
  },
  {
   "cell_type": "code",
   "execution_count": null,
   "metadata": {},
   "outputs": [],
   "source": []
  }
 ],
 "metadata": {
  "kernelspec": {
   "display_name": "Python 3",
   "language": "python",
   "name": "python3"
  },
  "language_info": {
   "codemirror_mode": {
    "name": "ipython",
    "version": 3
   },
   "file_extension": ".py",
   "mimetype": "text/x-python",
   "name": "python",
   "nbconvert_exporter": "python",
   "pygments_lexer": "ipython3",
   "version": "3.6.9"
  }
 },
 "nbformat": 4,
 "nbformat_minor": 2
}
