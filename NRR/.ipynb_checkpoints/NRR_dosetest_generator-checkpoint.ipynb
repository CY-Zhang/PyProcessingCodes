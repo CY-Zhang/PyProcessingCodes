{
 "cells": [
  {
   "cell_type": "code",
   "execution_count": 8,
   "metadata": {},
   "outputs": [],
   "source": [
    "import os\n",
    "import scipy.io as sio\n",
    "import scipy.misc as smisc\n",
    "import numpy as np\n",
    "import re as regexp\n",
    "import math\n",
    "import matplotlib.pyplot as plt\n",
    "import scipy\n",
    "import glob,os\n",
    "import re"
   ]
  },
  {
   "cell_type": "code",
   "execution_count": 13,
   "metadata": {},
   "outputs": [],
   "source": [
    "TotalDose = [50,100,150,200,250,300] # all the total dose that will be used\n",
    "FrameDose = [0.5,1,2,4,6,8,10,12] # all the frame dose that will be used\n",
    "path = '/srv/home/chenyu/NRR/STO_NRR/DoseTest/Batch5/'"
   ]
  },
  {
   "cell_type": "code",
   "execution_count": 14,
   "metadata": {},
   "outputs": [],
   "source": [
    "# make folders\n",
    "base = '/srv/home/chenyu/NRR/STO_NRR/DoseTest/Batch5/'\n",
    "for i1 in range(len(TotalDose)):\n",
    "    path = str(TotalDose[i1]) + '/'\n",
    "    if os.path.exists(base + path) == False:\n",
    "        os.mkdir(base + path)\n",
    "    for i2 in range(len(FrameDose)):\n",
    "        path = str(TotalDose[i1]) + '/' + str(FrameDose[i2]) + '/'\n",
    "        if os.path.exists(base + path) == False:\n",
    "            os.mkdir(base + path)"
   ]
  },
  {
   "cell_type": "code",
   "execution_count": 15,
   "metadata": {},
   "outputs": [
    {
     "name": "stdout",
     "output_type": "stream",
     "text": [
      "/srv/home/chenyu/NRR/STO_NRR/DoseTest/Batch5/50/0.5/NRR_B1.par\n",
      "/srv/home/chenyu/NRR/STO_NRR/DoseTest/Batch5/50/1/NRR_B1.par\n",
      "/srv/home/chenyu/NRR/STO_NRR/DoseTest/Batch5/50/2/NRR_B1.par\n",
      "/srv/home/chenyu/NRR/STO_NRR/DoseTest/Batch5/50/4/NRR_B1.par\n",
      "/srv/home/chenyu/NRR/STO_NRR/DoseTest/Batch5/50/6/NRR_B1.par\n",
      "/srv/home/chenyu/NRR/STO_NRR/DoseTest/Batch5/50/8/NRR_B1.par\n",
      "/srv/home/chenyu/NRR/STO_NRR/DoseTest/Batch5/50/10/NRR_B1.par\n",
      "/srv/home/chenyu/NRR/STO_NRR/DoseTest/Batch5/50/12/NRR_B1.par\n",
      "/srv/home/chenyu/NRR/STO_NRR/DoseTest/Batch5/100/0.5/NRR_B1.par\n",
      "/srv/home/chenyu/NRR/STO_NRR/DoseTest/Batch5/100/1/NRR_B1.par\n",
      "/srv/home/chenyu/NRR/STO_NRR/DoseTest/Batch5/100/2/NRR_B1.par\n",
      "/srv/home/chenyu/NRR/STO_NRR/DoseTest/Batch5/100/4/NRR_B1.par\n",
      "/srv/home/chenyu/NRR/STO_NRR/DoseTest/Batch5/100/6/NRR_B1.par\n",
      "/srv/home/chenyu/NRR/STO_NRR/DoseTest/Batch5/100/8/NRR_B1.par\n",
      "/srv/home/chenyu/NRR/STO_NRR/DoseTest/Batch5/100/10/NRR_B1.par\n",
      "/srv/home/chenyu/NRR/STO_NRR/DoseTest/Batch5/100/12/NRR_B1.par\n",
      "/srv/home/chenyu/NRR/STO_NRR/DoseTest/Batch5/150/0.5/NRR_B1.par\n",
      "/srv/home/chenyu/NRR/STO_NRR/DoseTest/Batch5/150/1/NRR_B1.par\n",
      "/srv/home/chenyu/NRR/STO_NRR/DoseTest/Batch5/150/2/NRR_B1.par\n",
      "/srv/home/chenyu/NRR/STO_NRR/DoseTest/Batch5/150/4/NRR_B1.par\n",
      "/srv/home/chenyu/NRR/STO_NRR/DoseTest/Batch5/150/6/NRR_B1.par\n",
      "/srv/home/chenyu/NRR/STO_NRR/DoseTest/Batch5/150/8/NRR_B1.par\n",
      "/srv/home/chenyu/NRR/STO_NRR/DoseTest/Batch5/150/10/NRR_B1.par\n",
      "/srv/home/chenyu/NRR/STO_NRR/DoseTest/Batch5/150/12/NRR_B1.par\n",
      "/srv/home/chenyu/NRR/STO_NRR/DoseTest/Batch5/200/0.5/NRR_B1.par\n",
      "/srv/home/chenyu/NRR/STO_NRR/DoseTest/Batch5/200/1/NRR_B1.par\n",
      "/srv/home/chenyu/NRR/STO_NRR/DoseTest/Batch5/200/2/NRR_B1.par\n",
      "/srv/home/chenyu/NRR/STO_NRR/DoseTest/Batch5/200/4/NRR_B1.par\n",
      "/srv/home/chenyu/NRR/STO_NRR/DoseTest/Batch5/200/6/NRR_B1.par\n",
      "/srv/home/chenyu/NRR/STO_NRR/DoseTest/Batch5/200/8/NRR_B1.par\n",
      "/srv/home/chenyu/NRR/STO_NRR/DoseTest/Batch5/200/10/NRR_B1.par\n",
      "/srv/home/chenyu/NRR/STO_NRR/DoseTest/Batch5/200/12/NRR_B1.par\n",
      "/srv/home/chenyu/NRR/STO_NRR/DoseTest/Batch5/250/0.5/NRR_B1.par\n",
      "/srv/home/chenyu/NRR/STO_NRR/DoseTest/Batch5/250/1/NRR_B1.par\n",
      "/srv/home/chenyu/NRR/STO_NRR/DoseTest/Batch5/250/2/NRR_B1.par\n",
      "/srv/home/chenyu/NRR/STO_NRR/DoseTest/Batch5/250/4/NRR_B1.par\n",
      "/srv/home/chenyu/NRR/STO_NRR/DoseTest/Batch5/250/6/NRR_B1.par\n",
      "/srv/home/chenyu/NRR/STO_NRR/DoseTest/Batch5/250/8/NRR_B1.par\n",
      "/srv/home/chenyu/NRR/STO_NRR/DoseTest/Batch5/250/10/NRR_B1.par\n",
      "/srv/home/chenyu/NRR/STO_NRR/DoseTest/Batch5/250/12/NRR_B1.par\n",
      "/srv/home/chenyu/NRR/STO_NRR/DoseTest/Batch5/300/0.5/NRR_B1.par\n",
      "/srv/home/chenyu/NRR/STO_NRR/DoseTest/Batch5/300/1/NRR_B1.par\n",
      "/srv/home/chenyu/NRR/STO_NRR/DoseTest/Batch5/300/2/NRR_B1.par\n",
      "/srv/home/chenyu/NRR/STO_NRR/DoseTest/Batch5/300/4/NRR_B1.par\n",
      "/srv/home/chenyu/NRR/STO_NRR/DoseTest/Batch5/300/6/NRR_B1.par\n",
      "/srv/home/chenyu/NRR/STO_NRR/DoseTest/Batch5/300/8/NRR_B1.par\n",
      "/srv/home/chenyu/NRR/STO_NRR/DoseTest/Batch5/300/10/NRR_B1.par\n",
      "/srv/home/chenyu/NRR/STO_NRR/DoseTest/Batch5/300/12/NRR_B1.par\n"
     ]
    }
   ],
   "source": [
    "# Create parameter file for single batch\n",
    "default_file = '/srv/home/chenyu/NRR/STO_NRR/DoseTest/NRR_B1.par'\n",
    "with open(default_file) as f:\n",
    "    datafile = f.readlines()\n",
    "    for i1 in range(len(TotalDose)):\n",
    "        for i2 in range(len(FrameDose)):\n",
    "            path = str(TotalDose[i1]) + '/' + str(FrameDose[i2]) + '/'\n",
    "            par_file = base + path + 'NRR_B1.par'\n",
    "            print(par_file)\n",
    "            f2 = open(par_file,\"w+\")\n",
    "            for i in range(len(datafile)):\n",
    "#                         print(datafile[i])\n",
    "                temp = datafile[i].split(' ')\n",
    "                if temp[0] == 'templateNamePattern':\n",
    "                    f2.write('templateNamePattern /srv/home/chenyu/NRR/STO_NRR/DoseTest/Data/' + str(FrameDose[i2]) +\\\n",
    "                             '/HAADF_%03d.dat\\n')\n",
    "                elif temp[0] == 'numTemplates':\n",
    "                    f2.write('numTemplates ' + str(int(TotalDose[i1]/FrameDose[i2])) + '\\n')\n",
    "                elif temp[0] == 'saveDirectory':\n",
    "                    f2.write('saveDirectory '+ path + 'HAADF_NRR/')\n",
    "                else:\n",
    "                    f2.write(datafile[i])\n",
    "            f2.close()"
   ]
  },
  {
   "cell_type": "code",
   "execution_count": 16,
   "metadata": {},
   "outputs": [
    {
     "name": "stdout",
     "output_type": "stream",
     "text": [
      "/srv/home/chenyu/NRR/STO_NRR/DoseTest/Batch5/Submission_0.sh\n",
      "/srv/home/chenyu/NRR/STO_NRR/DoseTest/Batch5/Submission_1.sh\n",
      "/srv/home/chenyu/NRR/STO_NRR/DoseTest/Batch5/Submission_2.sh\n",
      "/srv/home/chenyu/NRR/STO_NRR/DoseTest/Batch5/Submission_3.sh\n",
      "/srv/home/chenyu/NRR/STO_NRR/DoseTest/Batch5/Submission_4.sh\n",
      "/srv/home/chenyu/NRR/STO_NRR/DoseTest/Batch5/Submission_5.sh\n",
      "/srv/home/chenyu/NRR/STO_NRR/DoseTest/Batch5/Submission_6.sh\n",
      "/srv/home/chenyu/NRR/STO_NRR/DoseTest/Batch5/Submission_7.sh\n",
      "/srv/home/chenyu/NRR/STO_NRR/DoseTest/Batch5/Submission_8.sh\n",
      "/srv/home/chenyu/NRR/STO_NRR/DoseTest/Batch5/Submission_9.sh\n",
      "/srv/home/chenyu/NRR/STO_NRR/DoseTest/Batch5/Submission_10.sh\n",
      "/srv/home/chenyu/NRR/STO_NRR/DoseTest/Batch5/Submission_11.sh\n"
     ]
    }
   ],
   "source": [
    "# Create job submission file\n",
    "# The only thing that needs to be changed on submission file is the job name\n",
    "default_file = '/srv/home/chenyu/NRR/STO_NRR/DoseTest/NRR.sh'\n",
    "njobs_per_submission = 4\n",
    "ifile = 0\n",
    "isubmission = 0\n",
    "with open(default_file) as f:\n",
    "    datafile = f.readlines()\n",
    "    for i1 in range(len(TotalDose)):\n",
    "        for i2 in range(len(FrameDose)):\n",
    "            path = str(TotalDose[i1]) + '/' + str(FrameDose[i2]) + '/'\n",
    "#             par_file = base + path + 'NRR.sh'\n",
    "#             print(par_file)\n",
    "#             f2 = open(par_file,\"w+\")\n",
    "            if ifile == 0:\n",
    "                submission_file = base + 'Submission_' + str(isubmission) + '.sh'\n",
    "                print(submission_file)\n",
    "                f2 = open(submission_file,\"w+\")\n",
    "                f2.write('#!/bin/sh\\n\\n')\n",
    "                f2.write('#SBATCH --job-name=Test_' + str(isubmission) + '\\n')\n",
    "                f2.write('#SBATCH --error=Test_' + str(isubmission) + '.err\\n')\n",
    "                f2.write('#SBATCH --output=Test_' + str(isubmission) + '.out\\n')\n",
    "                f2.write('#SBATCH --time=7-00:00:00\\n')\n",
    "                f2.write('#SBATCH --nodes=1\\n')\n",
    "                f2.write('#SBATCH --ntasks=2\\n')\n",
    "                f2.write('##SBATCH --export=ALL\\n')\n",
    "                f2.write('echo \"Started on:\"\\ndate\\n')\n",
    "                f2.write('export LD_LIBRARY_PATH=\"/home/czhang376/bin/OpenBLAS/lib\"\\n\\n')\n",
    "                isubmission = isubmission + 1\n",
    "            f2.write('/srv/home/chenyu/bin/NRR/quocGCC/projects/electronMicroscopy/matchSeries ' + \\\n",
    "                     path + 'NRR_B1.par\\n')\n",
    "            f2.write('rm -r ' + path + 'HAADF_NRR/stage1 ' + path + 'HAADF_NRR/stage2 ' + \\\n",
    "                    path + 'HAADF_NRR/stage3/*-r\\n\\n')\n",
    "            ifile = ifile + 1\n",
    "            \n",
    "            if ifile == njobs_per_submission:\n",
    "                ifile = 0\n",
    "                f2.write('echo \"Finished on:\"\\ndate\\n')\n",
    "                f2.close()\n",
    "                # After the whole file writing, replace Windows style \\r\\n with Unix style \\n\n",
    "                fileContents = open(submission_file,\"r\").read()\n",
    "                f2 = open(submission_file,\"w\", newline=\"\\n\")\n",
    "                f2.write(fileContents)\n",
    "                f2.close()"
   ]
  },
  {
   "cell_type": "code",
   "execution_count": null,
   "metadata": {},
   "outputs": [],
   "source": []
  }
 ],
 "metadata": {
  "kernelspec": {
   "display_name": "Python 3",
   "language": "python",
   "name": "python3"
  },
  "language_info": {
   "codemirror_mode": {
    "name": "ipython",
    "version": 3
   },
   "file_extension": ".py",
   "mimetype": "text/x-python",
   "name": "python",
   "nbconvert_exporter": "python",
   "pygments_lexer": "ipython3",
   "version": "3.6.6"
  }
 },
 "nbformat": 4,
 "nbformat_minor": 2
}
