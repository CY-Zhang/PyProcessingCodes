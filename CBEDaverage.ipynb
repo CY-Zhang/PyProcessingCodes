{
 "cells": [
  {
   "cell_type": "code",
   "execution_count": 45,
   "metadata": {},
   "outputs": [],
   "source": [
    "import numpy as np\n",
    "import time\n",
    "import sys\n",
    "import os\n",
    "from joblib import Parallel, delayed\n",
    "import multiprocessing"
   ]
  },
  {
   "cell_type": "code",
   "execution_count": 46,
   "metadata": {},
   "outputs": [
    {
     "data": {
      "text/plain": [
       "26"
      ]
     },
     "execution_count": 46,
     "metadata": {},
     "output_type": "execute_result"
    }
   ],
   "source": [
    "min(num_cores,nlayer)"
   ]
  },
  {
   "cell_type": "code",
   "execution_count": null,
   "metadata": {},
   "outputs": [
    {
     "name": "stdout",
     "output_type": "stream",
     "text": [
      "40\n"
     ]
    }
   ],
   "source": [
    "base_name = 'depth0'\n",
    "folder = '/srv/home/chenyu/antisite/PRISMATIC/Depth0_TiltSeries/0.6mrad/'\n",
    "cbed_list_unique = [img for img in os.listdir(folder) if (base_name in img) and ('FP1.mrc' in img) and ('_X1_Y1_' in img)]\n",
    "nlayer = len(cbed_list_unique)\n",
    "num_cores = multiprocessing.cpu_count()\n",
    "print(num_cores)\n",
    "Parallel(n_jobs=min(num_cores,nlayer))(delayed(averageFP)(folder,base_name,ilayer) for ilayer in range(nlayer))"
   ]
  },
  {
   "cell_type": "code",
   "execution_count": 42,
   "metadata": {},
   "outputs": [],
   "source": [
    "def averageFP(folder, base_name, ilayer):\n",
    "    layer_name = '_slice'+ str(ilayer+1)\n",
    "    # only work for CBEDs in slice ilayer+1\n",
    "    cbed_list_unique = [img for img in os.listdir(folder) if (base_name in img) and ('FP1.mrc' in img) \n",
    "                        and (layer_name in img)]\n",
    "    cbed_list_all = [img for img in os.listdir(folder) if ((base_name in img) and ('FP' in img)) and ('.mrc' in img) \n",
    "                     and (layer_name in img)]\n",
    "    shape = readCBEDfromMRC(folder + cbed_list_unique[0]).shape\n",
    "    \n",
    "    for pos in cbed_list_unique:\n",
    "        cmp = pos.rsplit('_',1)\n",
    "        cbed_pos = cmp[0][:]\n",
    "        tmp_array = np.zeros(readCBEDfromMRC(folder + pos).shape,dtype=np.float32)\n",
    "        fp = 0\n",
    "        \n",
    "        for cbed in cbed_list_all:\n",
    "            if (cbed_pos+'_') in cbed:\n",
    "                tmp_array += readCBEDfromMRC(folder+cbed)\n",
    "#                 os.remove(cbed)\n",
    "                fp += 1\n",
    "        \n",
    "        tmp_array /= fp\n",
    "        np.save(folder+cbed_pos+'_FPavg',tmp_array)"
   ]
  },
  {
   "cell_type": "code",
   "execution_count": 2,
   "metadata": {},
   "outputs": [],
   "source": [
    "def readCBEDfromMRC(fname):\n",
    "    f = open(fname, 'rb')\n",
    "    count = 10\n",
    "    b = f.read(count*4)\n",
    "    data_types = {0:np.uint8,1:np.intc,2:np.float32,6:np.uint16}\n",
    "    c = np.frombuffer(b, dtype=np.int32,count=count)\n",
    "    data_size = c[:3]\n",
    "    data_type = data_types[c[3]]\n",
    "\n",
    "    f.seek(1024)\n",
    "\n",
    "    count = data_size[0]*data_size[1]*data_size[2]\n",
    "    cbed = f.read(count*4)\n",
    "    cbed_arr = np.frombuffer(cbed,dtype=data_type,count=count)\n",
    "    cbed_arr = np.reshape(cbed_arr,tuple(data_size))\n",
    "    f.close\n",
    "    f.closed\n",
    "    return cbed_arr"
   ]
  },
  {
   "cell_type": "code",
   "execution_count": 20,
   "metadata": {},
   "outputs": [],
   "source": [
    "cmp = pos.rsplit('_',1)\n",
    "cbed_pos = cmp[0][:]"
   ]
  },
  {
   "cell_type": "code",
   "execution_count": 21,
   "metadata": {},
   "outputs": [
    {
     "data": {
      "text/plain": [
       "'depth0_slice8_X67_Y35'"
      ]
     },
     "execution_count": 21,
     "metadata": {},
     "output_type": "execute_result"
    }
   ],
   "source": [
    "cbed_pos"
   ]
  },
  {
   "cell_type": "code",
   "execution_count": 25,
   "metadata": {},
   "outputs": [
    {
     "ename": "NameError",
     "evalue": "name 'img' is not defined",
     "output_type": "error",
     "traceback": [
      "\u001b[0;31m---------------------------------------------------------------------------\u001b[0m",
      "\u001b[0;31mNameError\u001b[0m                                 Traceback (most recent call last)",
      "\u001b[0;32m<ipython-input-25-77a7949ba908>\u001b[0m in \u001b[0;36m<module>\u001b[0;34m()\u001b[0m\n\u001b[0;32m----> 1\u001b[0;31m \u001b[0mimg\u001b[0m\u001b[0;34m\u001b[0m\u001b[0m\n\u001b[0m",
      "\u001b[0;31mNameError\u001b[0m: name 'img' is not defined"
     ]
    }
   ],
   "source": [
    "img"
   ]
  },
  {
   "cell_type": "code",
   "execution_count": null,
   "metadata": {},
   "outputs": [],
   "source": []
  }
 ],
 "metadata": {
  "kernelspec": {
   "display_name": "Python 3",
   "language": "python",
   "name": "python3"
  }
 },
 "nbformat": 4,
 "nbformat_minor": 2
}
