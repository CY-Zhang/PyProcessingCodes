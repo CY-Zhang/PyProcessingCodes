{
 "cells": [
  {
   "cell_type": "code",
   "execution_count": 2,
   "metadata": {},
   "outputs": [],
   "source": [
    "import h5py\n",
    "import numpy as np\n",
    "import matplotlib.pyplot as plt\n",
    "import struct\n",
    "import bz2\n",
    "from scipy import ndimage as ndi\n",
    "from skimage.feature import peak_local_max\n",
    "from skimage import data, img_as_float\n",
    "import glob"
   ]
  },
  {
   "cell_type": "markdown",
   "metadata": {},
   "source": [
    "## Measure the diffraction point drift during 4D STEM scan\n",
    "After the gun change early 2020, the pivot point seems to be off a lot which means the diffraction beam will move around during scan, so we need to make sure that when performing 4D STEM under high magnification, the pivot point problem won't be a big trouble.\n",
    "<br>Check the scan pivot point by doing 4D STEM at different magnification with no sample, and directly measure how the zero beam move during the scan by calculate COM."
   ]
  },
  {
   "cell_type": "code",
   "execution_count": 35,
   "metadata": {},
   "outputs": [],
   "source": [
    "# Folder with 4D STEM data collected with no sample under different magnification\n",
    "path = '/srv/home/chenyu/DEbackup/030620/PivotPoint/'\n",
    "folder_list = glob.glob(path + 'S*')"
   ]
  },
  {
   "cell_type": "code",
   "execution_count": 53,
   "metadata": {},
   "outputs": [
    {
     "name": "stdout",
     "output_type": "stream",
     "text": [
      "/srv/home/chenyu/DEbackup/030620/PivotPoint/S8_20.5MX [20.5]\n",
      "Finished row 0 \n",
      "Finished row 10 \n",
      "Finished row 20 \n",
      "Finished row 30 \n",
      "Finished row 40 \n",
      "/srv/home/chenyu/DEbackup/030620/PivotPoint/S6_10MX [10.]\n",
      "Finished row 0 \n",
      "Finished row 10 \n",
      "Finished row 20 \n",
      "Finished row 30 \n",
      "Finished row 40 \n",
      "/srv/home/chenyu/DEbackup/030620/PivotPoint/S3_2.55MX [2.55]\n",
      "Finished row 0 \n",
      "Finished row 10 \n",
      "Finished row 20 \n",
      "Finished row 30 \n",
      "Finished row 40 \n",
      "/srv/home/chenyu/DEbackup/030620/PivotPoint/S9_29MX [29.]\n",
      "Finished row 0 \n",
      "Finished row 10 \n",
      "Finished row 20 \n",
      "Finished row 30 \n",
      "Finished row 40 \n",
      "/srv/home/chenyu/DEbackup/030620/PivotPoint/S4_3.6MX [3.6]\n",
      "Finished row 0 \n",
      "Finished row 10 \n",
      "Finished row 20 \n",
      "Finished row 30 \n",
      "Finished row 40 \n",
      "/srv/home/chenyu/DEbackup/030620/PivotPoint/S2_1.8MX [1.8]\n",
      "Finished row 0 \n",
      "Finished row 10 \n",
      "Finished row 20 \n",
      "Finished row 30 \n",
      "Finished row 40 \n",
      "/srv/home/chenyu/DEbackup/030620/PivotPoint/S7_14.5MX [14.5]\n",
      "Finished row 0 \n",
      "Finished row 10 \n",
      "Finished row 20 \n",
      "Finished row 30 \n",
      "Finished row 40 \n",
      "/srv/home/chenyu/DEbackup/030620/PivotPoint/S5_7.1MX [7.1]\n",
      "Finished row 0 \n",
      "Finished row 10 \n",
      "Finished row 20 \n",
      "Finished row 30 \n",
      "Finished row 40 \n",
      "/srv/home/chenyu/DEbackup/030620/PivotPoint/S1_1.3MX [1.3]\n",
      "Finished row 0 \n",
      "Finished row 10 \n",
      "Finished row 20 \n",
      "Finished row 30 \n",
      "Finished row 40 \n"
     ]
    }
   ],
   "source": [
    "# For each magnification, calculate the COM drift\n",
    "num_cols = 50\n",
    "num_rows = 50\n",
    "mag_list = np.zeros((len(folder_list),1))\n",
    "drift_list = np.zeros((len(folder_list),2))\n",
    "\n",
    "for ifolder in range(len(folder_list)):\n",
    "\n",
    "    path = folder_list[ifolder]\n",
    "    mag_list[ifolder] = float(path.split('/')[-1].split('_')[-1][0:-2])\n",
    "    print(path, mag_list[ifolder])\n",
    "    name = path.split('/')[-1].split('_')[0]\n",
    "\n",
    "    sample = np.load(path + '/npy/' + name + '_' + format(1,'05')+'.npy')\n",
    "    kx,ky = sample.shape[0:2]\n",
    "    kx = np.linspace(0,kx-1,kx)\n",
    "    ky = np.linspace(0,ky-1,ky)\n",
    "    weights_x, weights_y = np.meshgrid(kx,ky)\n",
    "\n",
    "    COM = np.zeros((num_rows,num_cols,2))\n",
    "\n",
    "    for irow in range(num_rows):\n",
    "        for icol in range(num_cols):\n",
    "            nSample = irow*num_cols+icol+1\n",
    "            sample = np.load(path + '/npy/' + name + '_' + format(nSample,'05')+'.npy')\n",
    "            COM[irow,icol,0] = np.average(weights_x,weights = sample)\n",
    "            COM[irow,icol,1] = np.average(weights_y,weights = sample)\n",
    "\n",
    "            if irow % 10 == 0 and icol == 0:\n",
    "                print(\"Finished row %d \" % (irow))\n",
    "                \n",
    "    drift_list[ifolder,0] = np.amax(COM[1:-1,:,0]) - np.amin(COM[1:-1,:,0]) # max drift along x scan\n",
    "    drift_list[ifolder,1] = np.amax(COM[1:-1,:,1]) - np.amin(COM[1:-1,:,1]) # max drift along y scan"
   ]
  },
  {
   "cell_type": "code",
   "execution_count": 88,
   "metadata": {},
   "outputs": [
    {
     "data": {
      "text/plain": [
       "(array([0.2, 0.4, 0.6, 0.8, 1. , 1.2, 1.4]),\n",
       " <a list of 7 Text yticklabel objects>)"
      ]
     },
     "execution_count": 88,
     "metadata": {},
     "output_type": "execute_result"
    },
    {
     "data": {
      "image/png": "[encoded data removed]",
      "text/plain": [
       "<Figure size 576x360 with 1 Axes>"
      ]
     },
     "metadata": {},
     "output_type": "display_data"
    }
   ],
   "source": [
    "fig, ax1 = plt.subplots(figsize=(8,5))\n",
    "\n",
    "ax1.plot(80.77/mag_list, drift_list[:,0]*0.15,'o',label='Fast scan')\n",
    "ax1.plot(80.77/mag_list, drift_list[:,1]*0.15,'o',label = 'Slow scan')\n",
    "ax1.set_xlabel('Scan Window Size (nm)',fontsize=14)\n",
    "ax1.set_ylabel('Beam Drift (mrad)', fontsize = 14)\n",
    "ax1.legend(fontsize=14)\n",
    "plt.xticks(fontsize=14)\n",
    "plt.yticks(fontsize=14)\n",
    "\n",
    "# ax2 = ax1.twiny()\n",
    "# ax2.set_xticklabels(mag_list)"
   ]
  },
  {
   "cell_type": "code",
   "execution_count": null,
   "metadata": {},
   "outputs": [],
   "source": []
  }
 ],
 "metadata": {
  "kernelspec": {
   "display_name": "Python 3",
   "language": "python",
   "name": "python3"
  },
  "language_info": {
   "codemirror_mode": {
    "name": "ipython",
    "version": 3
   },
   "file_extension": ".py",
   "mimetype": "text/x-python",
   "name": "python",
   "nbconvert_exporter": "python",
   "pygments_lexer": "ipython3",
   "version": "3.6.9"
  }
 },
 "nbformat": 4,
 "nbformat_minor": 2
}
