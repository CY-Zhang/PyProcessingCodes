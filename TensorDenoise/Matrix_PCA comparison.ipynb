{
 "cells": [
  {
   "cell_type": "code",
   "execution_count": 7,
   "metadata": {},
   "outputs": [],
   "source": [
    "import numpy as np\n",
    "import scipy.io as sio\n",
    "import matplotlib.pyplot as plt\n",
    "import math\n",
    "from sklearn.utils.extmath import randomized_svd as fast_svd"
   ]
  },
  {
   "cell_type": "code",
   "execution_count": 3,
   "metadata": {},
   "outputs": [],
   "source": [
    "# path to raw data, denoised data, and ground truth\n",
    "# no data exceeds 2GB thus they are all saved in .mat or .py\n",
    "path ='D:/2020/TensorSVD/ManuscriptRelated/SimulationData/DenoiseInput_fullsize/SiDislocation/'\n",
    "raw_data = sio.loadmat(path + 'Simulation_noisy_SiDisl_slc5_1000FPS.mat')\n",
    "raw_data = raw_data['datacube']\n",
    "\n",
    "truth_data = np.load(path + 'Simulation_truth_SiDisl_slc5_1000FPS.npy')\n",
    "\n",
    "# denoised_data = sio.loadmat(path + 'Simulation_tensor_SiDisl_slc5_1000FPS.mat')\n",
    "# denoised_data = denoised_data['est_HOOI']"
   ]
  },
  {
   "cell_type": "code",
   "execution_count": 6,
   "metadata": {},
   "outputs": [],
   "source": [
    "# reshape the 3D tensor into 2D matrix\n",
    "raw_data_2D = np.reshape(raw_data,(114*114,16384))"
   ]
  },
  {
   "cell_type": "code",
   "execution_count": null,
   "metadata": {},
   "outputs": [],
   "source": [
    "# make scree plot along real space dimension\n",
    "temp = np.matmul(raw_data_2D,np.transpose(raw_data_2D))\n",
    "U, e, v = fast_svd(temp,500)"
   ]
  },
  {
   "cell_type": "code",
   "execution_count": null,
   "metadata": {},
   "outputs": [],
   "source": []
  }
 ],
 "metadata": {
  "kernelspec": {
   "display_name": "Python 3",
   "language": "python",
   "name": "python3"
  },
  "language_info": {
   "codemirror_mode": {
    "name": "ipython",
    "version": 3
   },
   "file_extension": ".py",
   "mimetype": "text/x-python",
   "name": "python",
   "nbconvert_exporter": "python",
   "pygments_lexer": "ipython3",
   "version": "3.6.4"
  }
 },
 "nbformat": 4,
 "nbformat_minor": 2
}
