{
 "cells": [
  {
   "cell_type": "code",
   "execution_count": 1,
   "metadata": {},
   "outputs": [],
   "source": [
    "import os\n",
    "import scipy.io as sio\n",
    "import scipy.misc as smisc\n",
    "import numpy as np\n",
    "import math\n",
    "import matplotlib.pyplot as plt\n",
    "import scipy\n",
    "import cv2"
   ]
  },
  {
   "cell_type": "code",
   "execution_count": 3,
   "metadata": {},
   "outputs": [
    {
     "name": "stdout",
     "output_type": "stream",
     "text": [
      "(24, 100, 1000, 1000)\n"
     ]
    }
   ],
   "source": [
    "datacube = np.load('/srv/home/chenyu/DEbackup/2019/120119/S1/Registered_datacube.npy')\n",
    "print(datacube.shape)"
   ]
  },
  {
   "cell_type": "code",
   "execution_count": 4,
   "metadata": {},
   "outputs": [
    {
     "data": {
      "text/plain": [
       "(-0.5, 97.5, 21.5, -0.5)"
      ]
     },
     "execution_count": 4,
     "metadata": {},
     "output_type": "execute_result"
    },
    {
     "data": {
      "image/png": "[encoded data removed]",
      "text/plain": [
       "<Figure size 432x288 with 1 Axes>"
      ]
     },
     "metadata": {},
     "output_type": "display_data"
    }
   ],
   "source": [
    "plt.imshow(np.sum(np.sum(datacube,axis=2),axis=2)[1:-1:,1:-1])\n",
    "plt.axis('off')"
   ]
  },
  {
   "cell_type": "code",
   "execution_count": 11,
   "metadata": {},
   "outputs": [
    {
     "name": "stderr",
     "output_type": "stream",
     "text": [
      "/srv/home/chenyu/anaconda/lib/python3.6/site-packages/ipykernel_launcher.py:8: RuntimeWarning: invalid value encountered in true_divide\n",
      "  \n"
     ]
    }
   ],
   "source": [
    "# Ignore the very first row to avoid artifact caused by shutter\n",
    "k_size = 150\n",
    "datacube_3D = np.zeros((datacube.shape[0], datacube.shape[1], k_size*k_size))\n",
    "for irow in range(datacube.shape[0]):\n",
    "    for icol in range(datacube.shape[1]):\n",
    "        sample = datacube[irow,icol,:,:]\n",
    "        resized = cv2.resize(sample,(k_size,k_size),interpolation = cv2.INTER_AREA) # resize into 16x16\n",
    "        resized = resized / np.sum(resized) * np.sum(sample)\n",
    "        resized = resized / 224\n",
    "        datacube_3D[irow,icol,:] = np.reshape(resized,k_size*k_size).astype(int)\n",
    "\n",
    "datacube_3D = datacube_3D[1:-1,1:-1,:] # crop the first row and first column\n",
    "# save as npy file as file would be too large for a typical matlab .mat file\n",
    "np.save('/srv/home/chenyu/TensorDenoise/Experiment/WS2_23x100x22500_realspace.npy',datacube_3D)\n"
   ]
  },
  {
   "cell_type": "code",
   "execution_count": 13,
   "metadata": {},
   "outputs": [],
   "source": [
    "# save as Matlab .mat file\n",
    "# Create a dictionary\n",
    "adict = {}\n",
    "adict['datacube'] = datacube_3D\n",
    "sio.savemat('/srv/home/chenyu/TensorDenoise/Experiment/WS2_23x100x22500_realspace.mat', adict)"
   ]
  },
  {
   "cell_type": "code",
   "execution_count": 5,
   "metadata": {},
   "outputs": [],
   "source": [
    "datacube = sio.loadmat('/srv/home/chenyu/TensorDenoise/Experiment/WS2_23x100x22500_realspace.mat')\n",
    "datacube = datacube['datacube']"
   ]
  },
  {
   "cell_type": "code",
   "execution_count": 6,
   "metadata": {},
   "outputs": [
    {
     "name": "stdout",
     "output_type": "stream",
     "text": [
      "(22, 98, 22500)\n"
     ]
    }
   ],
   "source": [
    "print(datacube.shape)"
   ]
  },
  {
   "cell_type": "code",
   "execution_count": 7,
   "metadata": {},
   "outputs": [
    {
     "data": {
      "text/plain": [
       "<matplotlib.image.AxesImage at 0x7fe7dd3c5320>"
      ]
     },
     "execution_count": 7,
     "metadata": {},
     "output_type": "execute_result"
    },
    {
     "data": {
      "image/png": "[encoded data removed]",
      "text/plain": [
       "<Figure size 432x288 with 1 Axes>"
      ]
     },
     "metadata": {},
     "output_type": "display_data"
    }
   ],
   "source": [
    "plt.imshow(datacube[10,10,:].reshape(150,150))"
   ]
  },
  {
   "cell_type": "code",
   "execution_count": null,
   "metadata": {},
   "outputs": [],
   "source": []
  }
 ],
 "metadata": {
  "kernelspec": {
   "display_name": "Python 3",
   "language": "python",
   "name": "python3"
  },
  "language_info": {
   "codemirror_mode": {
    "name": "ipython",
    "version": 3
   },
   "file_extension": ".py",
   "mimetype": "text/x-python",
   "name": "python",
   "nbconvert_exporter": "python",
   "pygments_lexer": "ipython3",
   "version": "3.6.9"
  }
 },
 "nbformat": 4,
 "nbformat_minor": 2
}
