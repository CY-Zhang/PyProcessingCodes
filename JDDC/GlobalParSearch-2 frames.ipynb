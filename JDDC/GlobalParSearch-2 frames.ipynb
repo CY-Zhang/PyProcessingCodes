{
 "cells": [
  {
   "cell_type": "code",
   "execution_count": 1,
   "metadata": {},
   "outputs": [],
   "source": [
    "import os\n",
    "import scipy.io as sio\n",
    "import scipy.misc as smisc\n",
    "import numpy as np\n",
    "import re as regexp\n",
    "import math\n",
    "import matplotlib.pyplot as plt\n",
    "import scipy\n",
    "\n",
    "from scipy import ndimage as ndi\n",
    "import matplotlib.pyplot as plt\n",
    "from skimage.feature import peak_local_max\n",
    "from skimage import data, img_as_float\n",
    "\n",
    "import scipy.io\n",
    "import time\n",
    "import glob,os\n",
    "from scipy import optimize\n",
    "from pylab import *\n",
    "import csv"
   ]
  },
  {
   "cell_type": "markdown",
   "metadata": {},
   "source": [
    "# This script is used to analysis results from global parameter search\n",
    "Global parameter search jobs were processed on ACI server, with results saved and transferred to MSCdata."
   ]
  },
  {
   "cell_type": "code",
   "execution_count": 2,
   "metadata": {},
   "outputs": [
    {
     "name": "stdout",
     "output_type": "stream",
     "text": [
      "D:/2020/JDDC/GlobalParSearch_2frames/0.3\\100\\0.1\\200\\\n"
     ]
    }
   ],
   "source": [
    "path = 'D:/2020/JDDC/GlobalParSearch_2frames/0.3/*/*/*/'\n",
    "num = len(glob.glob(path))\n",
    "fullpath = glob.glob(path)[1]\n",
    "print(fullpath)"
   ]
  },
  {
   "cell_type": "code",
   "execution_count": 3,
   "metadata": {},
   "outputs": [
    {
     "data": {
      "text/plain": [
       "['100', '0.1', '200']"
      ]
     },
     "execution_count": 3,
     "metadata": {},
     "output_type": "execute_result"
    }
   ],
   "source": [
    "fullpath.split('/')[-1].split('\\\\')[1:-1]"
   ]
  },
  {
   "cell_type": "code",
   "execution_count": 4,
   "metadata": {},
   "outputs": [
    {
     "data": {
      "text/plain": [
       "'D:/2020/JDDC/GlobalParSearch_2frames/0.3/100/0.1/200/2Frames_B10_results'"
      ]
     },
     "execution_count": 4,
     "metadata": {},
     "output_type": "execute_result"
    }
   ],
   "source": [
    "glob.glob(fullpath + '2Frames*_results')[0].replace('\\\\','/')"
   ]
  },
  {
   "cell_type": "code",
   "execution_count": 12,
   "metadata": {},
   "outputs": [
    {
     "name": "stdout",
     "output_type": "stream",
     "text": [
      "(0.4007130629995375, 0.46822327686692417)\n"
     ]
    },
    {
     "data": {
      "image/png": "[encoded data removed]",
      "text/plain": [
       "<Figure size 144x144 with 1 Axes>"
      ]
     },
     "metadata": {},
     "output_type": "display_data"
    }
   ],
   "source": [
    "fullpath = 'D:/2020/JDDC/GlobalParSearch_2frames/0.3/100/0.1/200/2Frames_B1_results/'\n",
    "csvfile = fullpath + 'bump-0_003-centers.csv'\n",
    "txtfile = fullpath + 'bump-0_003.txt'\n",
    "prec = FindPrecision(csvfile,txtfile,18)\n",
    "print(prec)"
   ]
  },
  {
   "cell_type": "code",
   "execution_count": 17,
   "metadata": {},
   "outputs": [
    {
     "name": "stdout",
     "output_type": "stream",
     "text": [
      "['1', '1', '100']\n",
      "['1', '1', '50']\n",
      "['1', '1', '75']\n",
      "['1', '10', '100']\n",
      "['1', '10', '50']\n",
      "['1', '10', '75']\n",
      "['1', '100', '100']\n",
      "['1', '100', '50']\n",
      "['1', '100', '75']\n",
      "['1', '500', '100']\n",
      "['1', '500', '50']\n",
      "['1', '500', '75']\n",
      "['10', '1', '100']\n",
      "['10', '1', '50']\n",
      "['10', '1', '75']\n",
      "['10', '10', '100']\n",
      "['10', '10', '50']\n",
      "['10', '10', '75']\n",
      "['10', '100', '100']\n",
      "['10', '100', '50']\n",
      "['10', '100', '75']\n",
      "['10', '500', '100']\n",
      "['10', '500', '50']\n",
      "['10', '500', '75']\n",
      "['100', '0.1', '100']\n",
      "['100', '0.1', '200']\n",
      "['100', '0.1', '500']\n",
      "['100', '0.1', '75']\n",
      "['100', '0.5', '100']\n",
      "['100', '0.5', '200']\n",
      "['100', '0.5', '500']\n",
      "['100', '0.5', '75']\n",
      "['100', '1', '100']\n",
      "['100', '1', '200']\n",
      "['100', '1', '50']\n",
      "['100', '1', '500']\n",
      "['100', '1', '75']\n",
      "['100', '10', '100']\n",
      "['100', '10', '200']\n",
      "['100', '10', '50']\n",
      "['100', '10', '500']\n",
      "['100', '10', '75']\n",
      "['100', '100', '100']\n",
      "['100', '100', '50']\n",
      "['100', '100', '75']\n",
      "['100', '500', '100']\n",
      "['100', '500', '50']\n",
      "['100', '500', '75']\n",
      "['300', '0.1', '100']\n",
      "['300', '0.1', '200']\n",
      "['300', '0.1', '500']\n",
      "['300', '0.1', '75']\n",
      "['300', '0.5', '100']\n",
      "['300', '0.5', '200']\n",
      "['300', '0.5', '500']\n",
      "['300', '0.5', '75']\n",
      "['300', '1', '100']\n",
      "['300', '1', '200']\n",
      "['300', '1', '500']\n",
      "['300', '1', '75']\n",
      "['300', '10', '100']\n",
      "['300', '10', '200']\n",
      "['300', '10', '500']\n",
      "['300', '10', '75']\n",
      "['500', '0.1', '100']\n",
      "['500', '0.1', '200']\n",
      "['500', '0.1', '500']\n",
      "['500', '0.1', '75']\n",
      "['500', '0.5', '100']\n",
      "['500', '0.5', '200']\n",
      "['500', '0.5', '500']\n",
      "['500', '0.5', '75']\n",
      "['500', '1', '100']\n",
      "['500', '1', '200']\n",
      "['500', '1', '50']\n",
      "['500', '1', '500']\n",
      "['500', '1', '75']\n",
      "['500', '10', '100']\n",
      "['500', '10', '200']\n",
      "['500', '10', '50']\n",
      "['500', '10', '500']\n",
      "['500', '10', '75']\n",
      "['500', '100', '100']\n",
      "['500', '100', '50']\n",
      "['500', '100', '75']\n",
      "['500', '500', '100']\n",
      "['500', '500', '50']\n",
      "['500', '500', '75']\n",
      "['700', '0.1', '100']\n",
      "['700', '0.1', '200']\n",
      "['700', '0.1', '500']\n",
      "['700', '0.1', '75']\n",
      "['700', '0.5', '100']\n",
      "['700', '0.5', '200']\n",
      "['700', '0.5', '500']\n",
      "['700', '0.5', '75']\n",
      "['700', '1', '100']\n",
      "['700', '1', '200']\n",
      "['700', '1', '500']\n",
      "['700', '1', '75']\n",
      "['700', '10', '100']\n",
      "['700', '10', '200']\n",
      "['700', '10', '500']\n"
     ]
    },
    {
     "ename": "FileNotFoundError",
     "evalue": "[Errno 2] No such file or directory: 'D:/2020/JDDC/GlobalParSearch_2frames/0.3/700/10/500/2Frames_B3_results/bump-0_003.txt'",
     "output_type": "error",
     "traceback": [
      "\u001b[1;31m---------------------------------------------------------------------------\u001b[0m",
      "\u001b[1;31mFileNotFoundError\u001b[0m                         Traceback (most recent call last)",
      "\u001b[1;32m<ipython-input-17-6714f32edc42>\u001b[0m in \u001b[0;36m<module>\u001b[1;34m()\u001b[0m\n\u001b[0;32m     13\u001b[0m         \u001b[0mcsvfile\u001b[0m \u001b[1;33m=\u001b[0m \u001b[0msub_folders\u001b[0m\u001b[1;33m[\u001b[0m\u001b[0mj\u001b[0m\u001b[1;33m]\u001b[0m\u001b[1;33m.\u001b[0m\u001b[0mreplace\u001b[0m\u001b[1;33m(\u001b[0m\u001b[1;34m'\\\\'\u001b[0m\u001b[1;33m,\u001b[0m\u001b[1;34m'/'\u001b[0m\u001b[1;33m)\u001b[0m \u001b[1;33m+\u001b[0m \u001b[1;34m'/bump-0_003-centers.csv'\u001b[0m\u001b[1;33m\u001b[0m\u001b[0m\n\u001b[0;32m     14\u001b[0m         \u001b[0mtxtfile\u001b[0m \u001b[1;33m=\u001b[0m \u001b[0msub_folders\u001b[0m\u001b[1;33m[\u001b[0m\u001b[0mj\u001b[0m\u001b[1;33m]\u001b[0m\u001b[1;33m.\u001b[0m\u001b[0mreplace\u001b[0m\u001b[1;33m(\u001b[0m\u001b[1;34m'\\\\'\u001b[0m\u001b[1;33m,\u001b[0m\u001b[1;34m'/'\u001b[0m\u001b[1;33m)\u001b[0m \u001b[1;33m+\u001b[0m \u001b[1;34m'/bump-0_003.txt'\u001b[0m\u001b[1;33m\u001b[0m\u001b[0m\n\u001b[1;32m---> 15\u001b[1;33m         \u001b[0mprec\u001b[0m\u001b[1;33m[\u001b[0m\u001b[1;36m0\u001b[0m\u001b[1;33m]\u001b[0m \u001b[1;33m=\u001b[0m \u001b[0mprec\u001b[0m\u001b[1;33m[\u001b[0m\u001b[1;36m0\u001b[0m\u001b[1;33m]\u001b[0m \u001b[1;33m+\u001b[0m \u001b[0mFindPrecision\u001b[0m\u001b[1;33m(\u001b[0m\u001b[0mcsvfile\u001b[0m\u001b[1;33m,\u001b[0m\u001b[0mtxtfile\u001b[0m\u001b[1;33m,\u001b[0m\u001b[1;36m18\u001b[0m\u001b[1;33m)\u001b[0m\u001b[1;33m[\u001b[0m\u001b[1;36m0\u001b[0m\u001b[1;33m]\u001b[0m\u001b[1;33m\u001b[0m\u001b[0m\n\u001b[0m\u001b[0;32m     16\u001b[0m         \u001b[0mprec\u001b[0m\u001b[1;33m[\u001b[0m\u001b[1;36m1\u001b[0m\u001b[1;33m]\u001b[0m \u001b[1;33m=\u001b[0m \u001b[0mprec\u001b[0m\u001b[1;33m[\u001b[0m\u001b[1;36m1\u001b[0m\u001b[1;33m]\u001b[0m \u001b[1;33m+\u001b[0m \u001b[0mFindPrecision\u001b[0m\u001b[1;33m(\u001b[0m\u001b[0mcsvfile\u001b[0m\u001b[1;33m,\u001b[0m\u001b[0mtxtfile\u001b[0m\u001b[1;33m,\u001b[0m\u001b[1;36m18\u001b[0m\u001b[1;33m)\u001b[0m\u001b[1;33m[\u001b[0m\u001b[1;36m1\u001b[0m\u001b[1;33m]\u001b[0m\u001b[1;33m\u001b[0m\u001b[0m\n\u001b[0;32m     17\u001b[0m \u001b[1;31m#         print(prec)\u001b[0m\u001b[1;33m\u001b[0m\u001b[1;33m\u001b[0m\u001b[0m\n",
      "\u001b[1;32m<ipython-input-13-36c39e0263e0>\u001b[0m in \u001b[0;36mFindPrecision\u001b[1;34m(csvFileName, txtFileName, separation)\u001b[0m\n\u001b[0;32m     12\u001b[0m             \u001b[0mpeaks_y\u001b[0m\u001b[1;33m.\u001b[0m\u001b[0mappend\u001b[0m\u001b[1;33m(\u001b[0m\u001b[0mfloat\u001b[0m\u001b[1;33m(\u001b[0m\u001b[0mrow\u001b[0m\u001b[1;33m[\u001b[0m\u001b[1;36m1\u001b[0m\u001b[1;33m]\u001b[0m\u001b[1;33m)\u001b[0m\u001b[1;33m)\u001b[0m\u001b[1;33m\u001b[0m\u001b[0m\n\u001b[0;32m     13\u001b[0m \u001b[1;33m\u001b[0m\u001b[0m\n\u001b[1;32m---> 14\u001b[1;33m     \u001b[1;32mwith\u001b[0m \u001b[0mopen\u001b[0m\u001b[1;33m(\u001b[0m\u001b[0mtxtFileName\u001b[0m\u001b[1;33m)\u001b[0m \u001b[1;32mas\u001b[0m \u001b[0mf\u001b[0m\u001b[1;33m:\u001b[0m\u001b[1;33m\u001b[0m\u001b[0m\n\u001b[0m\u001b[0;32m     15\u001b[0m         \u001b[0mcontent\u001b[0m \u001b[1;33m=\u001b[0m \u001b[0mf\u001b[0m\u001b[1;33m.\u001b[0m\u001b[0mreadlines\u001b[0m\u001b[1;33m(\u001b[0m\u001b[1;33m)\u001b[0m\u001b[1;33m\u001b[0m\u001b[0m\n\u001b[0;32m     16\u001b[0m     \u001b[1;31m# you may also want to remove whitespace characters like `\\n` at the end of each line\u001b[0m\u001b[1;33m\u001b[0m\u001b[1;33m\u001b[0m\u001b[0m\n",
      "\u001b[1;31mFileNotFoundError\u001b[0m: [Errno 2] No such file or directory: 'D:/2020/JDDC/GlobalParSearch_2frames/0.3/700/10/500/2Frames_B3_results/bump-0_003.txt'"
     ]
    }
   ],
   "source": [
    "path = 'D:/2020/JDDC/GlobalParSearch_2frames/0.3/*/*/*/'\n",
    "num = len(glob.glob(path))\n",
    "par_list = []\n",
    "prec_x_list = []\n",
    "prec_y_list = []\n",
    "for i in range(len(glob.glob(path))):\n",
    "    fullpath = glob.glob(path)[i]\n",
    "    print(fullpath.split('/')[-1].split('\\\\')[1:-1])\n",
    "    par_list.append(fullpath.split('/')[-1].split('\\\\')[1:-1])\n",
    "    sub_folders = glob.glob(fullpath + '2Frames*_results')\n",
    "    prec = [0,0]\n",
    "    for j in range(len(sub_folders)):\n",
    "        csvfile = sub_folders[j].replace('\\\\','/') + '/bump-0_003-centers.csv'\n",
    "        txtfile = sub_folders[j].replace('\\\\','/') + '/bump-0_003.txt'\n",
    "        prec[0] = prec[0] + FindPrecision(csvfile,txtfile,18)[0]\n",
    "        prec[1] = prec[1] + FindPrecision(csvfile,txtfile,18)[1]\n",
    "#         print(prec)\n",
    "    prec_x_list.append(prec[0]/9)\n",
    "    prec_y_list.append(prec[1]/9)"
   ]
  },
  {
   "cell_type": "code",
   "execution_count": 18,
   "metadata": {
    "scrolled": false
   },
   "outputs": [
    {
     "data": {
      "text/plain": [
       "[(0.44753512803900236, 0.462572703462217, ['700', '0.5', '200']),\n",
       " (0.4476930747924111, 0.4574575810358737, ['700', '0.5', '100']),\n",
       " (0.4477029920715176, 0.4602382041153448, ['700', '0.1', '100']),\n",
       " (0.44776385087330073, 0.45789734045071534, ['500', '0.5', '100']),\n",
       " (0.4477682756578858, 0.4616838303490456, ['700', '1', '200']),\n",
       " (0.4478495074895846, 0.46288487305018955, ['700', '0.1', '200']),\n",
       " (0.4479530114962025, 0.45924075576134843, ['500', '0.1', '75']),\n",
       " (0.4480781174252434, 0.4580867107494797, ['700', '0.1', '75']),\n",
       " (0.4480977962807134, 0.46367862843321334, ['500', '0.5', '200']),\n",
       " (0.4481057158524281, 0.4661422460835889, ['500', '1', '500']),\n",
       " (0.4481336639933904, 0.4657205186251869, ['700', '0.5', '500']),\n",
       " (0.44815218541771007, 0.46482275568363196, ['700', '1', '500']),\n",
       " (0.4482278742990686, 0.45628825355364655, ['700', '1', '100']),\n",
       " (0.44826279175736833, 0.4578522477807668, ['500', '1', '100']),\n",
       " (0.44826597930613243, 0.4535182312146595, ['700', '0.5', '75']),\n",
       " (0.44832065592875747, 0.4630776018182754, ['500', '0.1', '100']),\n",
       " (0.44832163497182315, 0.4644509782393548, ['300', '1', '200']),\n",
       " (0.44833983919083603, 0.4675532538616374, ['500', '0.1', '200']),\n",
       " (0.44838050305387445, 0.4671590440258419, ['500', '0.5', '500']),\n",
       " (0.4484684710539081, 0.4643806927530214, ['700', '0.1', '500']),\n",
       " (0.44853852098369873, 0.45767748731279834, ['300', '0.1', '75']),\n",
       " (0.44854239314114097, 0.4653980791660357, ['500', '0.1', '500']),\n",
       " (0.44854466202772664, 0.46328314069943943, ['500', '1', '200']),\n",
       " (0.44863181924432183, 0.45408702743184853, ['700', '1', '75']),\n",
       " (0.44885974918284927, 0.4561921819370666, ['500', '0.5', '75']),\n",
       " (0.4489288466757947, 0.45544398940347974, ['300', '0.5', '75']),\n",
       " (0.44895864910379985, 0.45873055197785273, ['300', '0.1', '100']),\n",
       " (0.4490950193601015, 0.45542889777235473, ['500', '1', '75']),\n",
       " (0.4491112180478226, 0.4595927120288402, ['100', '1', '100']),\n",
       " (0.44953813905950785, 0.4581490124323016, ['300', '1', '100']),\n",
       " (0.4496576854323647, 0.4674375449661222, ['300', '1', '500']),\n",
       " (0.44968126538896436, 0.45725005657414425, ['300', '0.5', '100']),\n",
       " (0.44972107994701194, 0.4655848639978974, ['300', '0.5', '200']),\n",
       " (0.4500102374073264, 0.4662880827977404, ['300', '0.1', '200']),\n",
       " (0.45002415389854405, 0.4522753405942532, ['500', '1', '50']),\n",
       " (0.4501877040971527, 0.4689015985485942, ['300', '0.1', '500']),\n",
       " (0.45024949741185516, 0.45606249656576725, ['100', '1', '75']),\n",
       " (0.45029202802056845, 0.46938940277916136, ['300', '0.5', '500']),\n",
       " (0.45041262508464747, 0.4558722610723919, ['300', '1', '75']),\n",
       " (0.4505103524590564, 0.45263873129035914, ['700', '10', '200']),\n",
       " (0.4505641931710353, 0.44815803817356226, ['700', '10', '100']),\n",
       " (0.4506410882177212, 0.44775248403973616, ['500', '10', '100']),\n",
       " (0.4506615257789529, 0.4556764904238825, ['100', '0.5', '75']),\n",
       " (0.45067478332987165, 0.4460745803077658, ['500', '10', '75']),\n",
       " (0.45075408904854225, 0.44383580168662223, ['500', '10', '50']),\n",
       " (0.45081222426205414, 0.4617644276804792, ['100', '0.1', '75']),\n",
       " (0.45093442282715945, 0.4525460831896841, ['500', '10', '200']),\n",
       " (0.451184143801656, 0.455971757395148, ['500', '10', '500']),\n",
       " (0.45131803101236456, 0.4450360169036276, ['300', '10', '75']),\n",
       " (0.45137234177946756, 0.4472328850130309, ['300', '10', '100']),\n",
       " (0.4513925719341003, 0.4749845519603123, ['100', '0.5', '500']),\n",
       " (0.4514687318059636, 0.4658564050889551, ['100', '1', '200']),\n",
       " (0.45147401886083127, 0.451972235569987, ['300', '10', '200']),\n",
       " (0.45191900647514277, 0.4715056553091757, ['100', '0.1', '500']),\n",
       " (0.4520987302044069, 0.46064323419414627, ['100', '0.5', '100']),\n",
       " (0.4521437157814235, 0.4555243941102776, ['300', '10', '500']),\n",
       " (0.4527495818795441, 0.47124669573091804, ['100', '0.1', '200']),\n",
       " (0.452986798087182, 0.4698750004843945, ['100', '1', '500']),\n",
       " (0.45302484476352173, 0.4619539645291846, ['100', '0.1', '100']),\n",
       " (0.453315262688403, 0.45085440754289163, ['100', '1', '50']),\n",
       " (0.4534668778432529, 0.4679112513327325, ['100', '0.5', '200']),\n",
       " (0.45387822428357594, 0.44697484720313757, ['100', '10', '100']),\n",
       " (0.45389166305169554, 0.44335827045672305, ['100', '10', '75']),\n",
       " (0.4539933961015536, 0.4404336423548557, ['100', '10', '50']),\n",
       " (0.45422277400117456, 0.4539096185166048, ['100', '10', '200']),\n",
       " (0.4550275450677076, 0.45744915372733075, ['100', '10', '500']),\n",
       " (0.45632532920897667, 0.4415893505516616, ['100', '100', '100']),\n",
       " (0.4642462161676322, 0.4353978647027701, ['100', '100', '50']),\n",
       " (0.4646336228091958, 0.43735919258180395, ['100', '100', '75']),\n",
       " (0.46536657488641847, 0.43782507160859446, ['500', '100', '50']),\n",
       " (0.4654905021586775, 0.4405678362240624, ['500', '100', '75']),\n",
       " (0.46561300175357473, 0.4430196239407223, ['500', '100', '100']),\n",
       " (0.4737514485473031, 0.4600601673477695, ['10', '500', '100']),\n",
       " (0.4738248816932754, 0.43961935172139927, ['100', '500', '50']),\n",
       " (0.47406156850050785, 0.44015316204769356, ['100', '500', '75']),\n",
       " (0.4743575931156731, 0.4434863869011132, ['100', '500', '100']),\n",
       " (0.47444313016658807, 0.4403093014805796, ['500', '500', '50']),\n",
       " (0.4745678269546555, 0.44277814524324827, ['500', '500', '75']),\n",
       " (0.47467373364488513, 0.4444666737722106, ['500', '500', '100']),\n",
       " (0.4797672637145257, 0.46210076753744267, ['10', '500', '50']),\n",
       " (0.4798239120776501, 0.4650051207804398, ['10', '100', '50']),\n",
       " (0.4819638721103381, 0.4577078298053822, ['10', '100', '100']),\n",
       " (0.4844566097495282, 0.4625766042664211, ['10', '500', '75']),\n",
       " (0.48485498191615023, 0.4575301509300004, ['10', '100', '75']),\n",
       " (0.4989048803707717, 0.4679945605882889, ['10', '10', '100']),\n",
       " (0.5017318806927579, 0.4678567502913897, ['10', '10', '75']),\n",
       " (0.501816285967651, 0.47644461040603114, ['10', '10', '50']),\n",
       " (0.5026767894083252, 0.4718113226617173, ['1', '100', '50']),\n",
       " (0.5029150287590309, 0.4925612978596733, ['10', '1', '50']),\n",
       " (0.5040199230835828, 0.47415907631533255, ['1', '1', '100']),\n",
       " (0.5059107941713132, 0.48245498773071815, ['10', '1', '100']),\n",
       " (0.5065242043495183, 0.48759084615063475, ['10', '1', '75']),\n",
       " (0.5190115625311928, 0.5018816539802888, ['1', '100', '75']),\n",
       " (0.524750800345352, 0.4627879756738774, ['1', '10', '50']),\n",
       " (0.5322252350661915, 0.48672650127521677, ['1', '10', '100']),\n",
       " (0.5331059051831583, 0.49867066436626445, ['1', '100', '100']),\n",
       " (0.5355996631780071, 0.4802217267673098, ['1', '500', '50']),\n",
       " (0.5365547218935326, 0.48437197434302853, ['1', '10', '75']),\n",
       " (0.5494317821280216, 0.47684826500555183, ['1', '1', '50']),\n",
       " (0.5496364159039311, 0.5083891467486683, ['1', '500', '100']),\n",
       " (0.5669898644557275, 0.49006624929238257, ['1', '1', '75']),\n",
       " (0.5683602091371277, 0.5088486655262573, ['1', '500', '75'])]"
      ]
     },
     "execution_count": 18,
     "metadata": {},
     "output_type": "execute_result"
    }
   ],
   "source": [
    "sorted(zip(prec_x_list, prec_y_list,par_list))"
   ]
  },
  {
   "cell_type": "code",
   "execution_count": 19,
   "metadata": {},
   "outputs": [
    {
     "data": {
      "text/plain": [
       "(array([0.44, 0.46, 0.48, 0.5 , 0.52, 0.54, 0.56, 0.58]),\n",
       " <a list of 8 Text major ticklabel objects>)"
      ]
     },
     "execution_count": 19,
     "metadata": {},
     "output_type": "execute_result"
    },
    {
     "data": {
      "image/png": "[encoded data removed]",
      "text/plain": [
       "<Figure size 504x504 with 1 Axes>"
      ]
     },
     "metadata": {},
     "output_type": "display_data"
    }
   ],
   "source": [
    "fig, ax = plt.subplots(figsize=(7,7))\n",
    "plt.scatter(np.asarray(prec_x_list), np.asarray(prec_y_list))\n",
    "plt.ylabel('Y Precision (pm)',fontsize=20)\n",
    "plt.xlabel('X Precision (pm)',fontsize=20)\n",
    "plt.xticks(fontsize=14, rotation=90)"
   ]
  },
  {
   "cell_type": "code",
   "execution_count": 13,
   "metadata": {},
   "outputs": [],
   "source": [
    "def FindPrecision(csvFileName,txtFileName,separation):\n",
    "    start = 0\n",
    "    with open(csvFileName) as csvfile:\n",
    "        file=csv.reader(open(csvFileName,'r'))\n",
    "        peaks_x = []\n",
    "        peaks_y = []\n",
    "        for row in file:\n",
    "            if start == 0:\n",
    "                start = 1\n",
    "                continue\n",
    "            peaks_x.append(float(row[0]))\n",
    "            peaks_y.append(float(row[1]))\n",
    "\n",
    "    with open(txtFileName) as f:\n",
    "        content = f.readlines()\n",
    "    # you may also want to remove whitespace characters like `\\n` at the end of each line\n",
    "    content = [x.strip() for x in content];\n",
    "\n",
    "    peaks_int = []\n",
    "    for i in range(len(peaks_x)):\n",
    "        peaks_int.append(float(content[i*3+2]))\n",
    "\n",
    "    array_x = np.asarray(peaks_x)\n",
    "    array_y = np.asarray(peaks_y)\n",
    "    array_int = np.asarray(peaks_int)\n",
    "    index = np.where((array_x>10) & (array_x<140) & (array_y > 10) & (array_y < 140) & (array_int>0))\n",
    "    array_x = array_x[index]\n",
    "    array_y = array_y[index]\n",
    "    array_int = array_int[index]\n",
    "    hist_bin = np.arange(np.amin(array_int)+0.5,np.amax(array_int),0.2)\n",
    "\n",
    "#     fig = plt.subplots(figsize=(6,2))\n",
    "#     plt.hist(array_int, bins=hist_bin)\n",
    "#     plt.title('Peak Intensity Histogram')\n",
    "\n",
    "#     hist, bin_edges = np.histogram(array_int,bins=np.arange(np.amin(array_int)+0.5,np.amax(array_int),0.2), density=True)\n",
    "#     threshold = bin_edges[argmin(hist)]\n",
    "    threshold = np.sort(array_int)[-53]\n",
    "#     print(threshold)\n",
    "    lattice1 = np.where(array_int>threshold)\n",
    "    array_x1 = array_x[lattice1]\n",
    "    array_y1 = array_y[lattice1]\n",
    "    array_int1 = array_int[lattice1]\n",
    "    \n",
    "#     fig = plt.subplots(figsize=(2,2))\n",
    "#     plt.scatter(array_x1,array_y1)\n",
    "\n",
    "    return FindXStd(array_x1,array_y1,separation), FindYStd(array_x1,array_y1,separation)"
   ]
  },
  {
   "cell_type": "code",
   "execution_count": 7,
   "metadata": {},
   "outputs": [],
   "source": [
    "def FindYStd(array_x1_copy,array_y1_copy,separation):\n",
    "    y_sep = []\n",
    "    while array_x1_copy.size != 0:\n",
    "        x_cor = array_x1_copy[0]\n",
    "        index = np.where((array_x1_copy<x_cor+3) & (array_x1_copy>x_cor-3))\n",
    "        array_y_sub = array_y1_copy[index]\n",
    "        array_y_sub = np.sort(array_y_sub)\n",
    "        for i in range(array_y_sub.shape[0]-1):\n",
    "            spacing = array_y_sub[i+1] - array_y_sub[i]\n",
    "            if (spacing < separation + 5) & (spacing > separation -5):\n",
    "                y_sep.append(spacing)\n",
    "        array_x1_copy = np.delete(array_x1_copy,index)\n",
    "        array_y1_copy = np.delete(array_y1_copy,index)\n",
    "\n",
    "    y_std = np.std(np.asarray(y_sep))\n",
    "#     fig = plt.subplots(figsize=(6,2))\n",
    "#     plt.hist(y_sep, bins='auto')\n",
    "#     plt.title('Hist along y, std= '+str(y_std))\n",
    "    return y_std"
   ]
  },
  {
   "cell_type": "code",
   "execution_count": 8,
   "metadata": {},
   "outputs": [],
   "source": [
    "def FindXStd(array_x1_copy,array_y1_copy,separation):\n",
    "    x_sep = []\n",
    "    while array_x1_copy.size != 0:\n",
    "        y_cor = array_y1_copy[0]\n",
    "        index = np.where((array_y1_copy<y_cor+3) & (array_y1_copy>y_cor-3))\n",
    "        array_x_sub = array_x1_copy[index]\n",
    "        array_x_sub = np.sort(array_x_sub)\n",
    "        for i in range(array_x_sub.shape[0]-1):\n",
    "            spacing = array_x_sub[i+1] - array_x_sub[i]\n",
    "            if (spacing < separation + 5) & (spacing > separation -5):\n",
    "                x_sep.append(array_x_sub[i+1] - array_x_sub[i])\n",
    "        array_x1_copy = np.delete(array_x1_copy,index)\n",
    "        array_y1_copy = np.delete(array_y1_copy,index)\n",
    "\n",
    "    x_std = np.std(np.asarray(x_sep))\n",
    "#     fig = plt.subplots(figsize=(6,2))\n",
    "#     plt.hist(x_sep, bins='auto')\n",
    "#     plt.title('Hist along x, std= '+str(x_std))\n",
    "    return x_std"
   ]
  },
  {
   "cell_type": "code",
   "execution_count": null,
   "metadata": {},
   "outputs": [],
   "source": []
  },
  {
   "cell_type": "code",
   "execution_count": null,
   "metadata": {},
   "outputs": [],
   "source": []
  }
 ],
 "metadata": {
  "kernelspec": {
   "display_name": "Python 3",
   "language": "python",
   "name": "python3"
  },
  "language_info": {
   "codemirror_mode": {
    "name": "ipython",
    "version": 3
   },
   "file_extension": ".py",
   "mimetype": "text/x-python",
   "name": "python",
   "nbconvert_exporter": "python",
   "pygments_lexer": "ipython3",
   "version": "3.6.4"
  }
 },
 "nbformat": 4,
 "nbformat_minor": 2
}
