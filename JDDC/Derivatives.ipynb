{
 "cells": [
  {
   "cell_type": "markdown",
   "metadata": {},
   "source": [
    "# Second order derivatives for asymmetric Gaussian function in JDDC\n",
    "Use Sympy to compute second order derivatives and implement in C code"
   ]
  },
  {
   "cell_type": "code",
   "execution_count": 50,
   "metadata": {},
   "outputs": [],
   "source": [
    "import numpy\n",
    "import sympy as sym\n",
    "from sympy import exp\n",
    "from __future__ import division"
   ]
  },
  {
   "cell_type": "code",
   "execution_count": 38,
   "metadata": {},
   "outputs": [],
   "source": [
    "x = sym.Symbol('x')\n",
    "y = sym.Symbol('y')\n",
    "_c1 = sym.Symbol('_c1')\n",
    "_c2 = sym.Symbol('_c2')\n",
    "f = sym.Symbol('f')\n",
    "_height = sym.Symbol('_height')\n",
    "pos0 = sym.Symbol('pos0')\n",
    "pos1 = sym.Symbol('pos1')\n",
    "_sigmaX = sym.Symbol('_sigmaX')\n",
    "_sigmaY = sym.Symbol('_sigmaY')\n",
    "_offset = sym.Symbol('_offset')\n"
   ]
  },
  {
   "cell_type": "code",
   "execution_count": 51,
   "metadata": {},
   "outputs": [],
   "source": [
    "def f(_height, _c1, pos0, _sigmaX, pos1, _sigmaY, _c2, _offset):\n",
    "    return _height * exp( _c1 * ( ( pos0 / _sigmaX )**2 + ( pos1 / _sigmaY )**2 - _c2 * pos0 * pos1 ) ) + _offset"
   ]
  },
  {
   "cell_type": "code",
   "execution_count": 52,
   "metadata": {},
   "outputs": [
    {
     "data": {
      "text/plain": [
       "_c1*_height*(-_c2*pos1 + 2*pos0/_sigmaX**2)*exp(_c1*(-_c2*pos0*pos1 + pos1**2/_sigmaY**2 + pos0**2/_sigmaX**2))"
      ]
     },
     "execution_count": 52,
     "metadata": {},
     "output_type": "execute_result"
    }
   ],
   "source": [
    "sym.diff( _height * exp( _c1 * ( ( pos0 / _sigmaX )**2 + ( pos1 / _sigmaY )**2 - _c2 * pos0 * pos1 ) ) + _offset, pos0)"
   ]
  },
  {
   "cell_type": "code",
   "execution_count": 53,
   "metadata": {},
   "outputs": [
    {
     "data": {
      "text/plain": [
       "_c1**2*_height*(-_c2*pos1 + 2*pos0/_sigmaX**2)**2*exp(_c1*(-_c2*pos0*pos1 + pos1**2/_sigmaY**2 + pos0**2/_sigmaX**2)) + 2*_c1*_height*exp(_c1*(-_c2*pos0*pos1 + pos1**2/_sigmaY**2 + pos0**2/_sigmaX**2))/_sigmaX**2"
      ]
     },
     "execution_count": 53,
     "metadata": {},
     "output_type": "execute_result"
    }
   ],
   "source": [
    "sym.diff( _c1*_height*(-_c2*pos1 + 2*pos0/_sigmaX**2)*exp(_c1*(-_c2*pos0*pos1 + pos1**2/_sigmaY**2 + pos0**2/_sigmaX**2))\n",
    ", pos0)"
   ]
  },
  {
   "cell_type": "code",
   "execution_count": null,
   "metadata": {},
   "outputs": [],
   "source": []
  },
  {
   "cell_type": "code",
   "execution_count": null,
   "metadata": {},
   "outputs": [],
   "source": []
  }
 ],
 "metadata": {
  "kernelspec": {
   "display_name": "Python 3",
   "language": "python",
   "name": "python3"
  },
  "language_info": {
   "codemirror_mode": {
    "name": "ipython",
    "version": 3
   },
   "file_extension": ".py",
   "mimetype": "text/x-python",
   "name": "python",
   "nbconvert_exporter": "python",
   "pygments_lexer": "ipython3",
   "version": "3.6.4"
  }
 },
 "nbformat": 4,
 "nbformat_minor": 2
}
