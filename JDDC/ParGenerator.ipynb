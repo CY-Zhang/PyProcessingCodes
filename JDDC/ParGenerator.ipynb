{
 "cells": [
  {
   "cell_type": "markdown",
   "metadata": {},
   "source": [
    "# Script to generate parameter files for global parameter optimization"
   ]
  },
  {
   "cell_type": "code",
   "execution_count": 2,
   "metadata": {},
   "outputs": [],
   "source": [
    "import os\n",
    "import scipy.io as sio\n",
    "import scipy.misc as smisc\n",
    "import numpy as np\n",
    "import re as regexp\n",
    "import math\n",
    "import matplotlib.pyplot as plt\n",
    "import scipy\n",
    "import glob,os"
   ]
  },
  {
   "cell_type": "code",
   "execution_count": 3,
   "metadata": {},
   "outputs": [],
   "source": [
    "# Selections for all four parameters\n",
    "RatioRange = [0.3]\n",
    "RegYRange = [10]\n",
    "Y1L2Range = [250,300,350,400]\n",
    "Y2L2Range = [0.1,0.01,0.25,0.5,0.75]\n",
    "total_jobs = 4"
   ]
  },
  {
   "cell_type": "code",
   "execution_count": 4,
   "metadata": {},
   "outputs": [],
   "source": [
    "# Create folders\n",
    "base = '/srv/home/chenyu/JDDC/GlobalParSearch/Round3/'\n",
    "for i1 in range(len(RatioRange)):\n",
    "    path = str(RatioRange[i1]) + '/'\n",
    "    os.mkdir(base + path)\n",
    "    for i2 in range(len(RegYRange)):\n",
    "        path = str(RatioRange[i1]) + '/' + str(RegYRange[i2]) + '/'\n",
    "        os.mkdir(base + path)\n",
    "        for i3 in range(len(Y1L2Range)):\n",
    "            path = str(RatioRange[i1]) + '/' + str(RegYRange[i2]) + '/' + str(Y1L2Range[i3]) + '/'\n",
    "            os.mkdir(base + path)\n",
    "            for i4 in range(len(Y2L2Range)):\n",
    "                path = str(RatioRange[i1]) + '/' + str(RegYRange[i2]) + '/' + str(Y1L2Range[i3]) + '/' + str(Y2L2Range[i4]) + '/'\n",
    "                os.mkdir(base + path)"
   ]
  },
  {
   "cell_type": "code",
   "execution_count": 5,
   "metadata": {},
   "outputs": [
    {
     "name": "stdout",
     "output_type": "stream",
     "text": [
      "/srv/home/chenyu/JDDC/GlobalParSearch/Round3/0.3/10/250/0.1/10Frames_B1.par\n",
      "/srv/home/chenyu/JDDC/GlobalParSearch/Round3/0.3/10/250/0.01/10Frames_B1.par\n",
      "/srv/home/chenyu/JDDC/GlobalParSearch/Round3/0.3/10/250/0.25/10Frames_B1.par\n",
      "/srv/home/chenyu/JDDC/GlobalParSearch/Round3/0.3/10/250/0.5/10Frames_B1.par\n",
      "/srv/home/chenyu/JDDC/GlobalParSearch/Round3/0.3/10/250/0.75/10Frames_B1.par\n",
      "/srv/home/chenyu/JDDC/GlobalParSearch/Round3/0.3/10/300/0.1/10Frames_B1.par\n",
      "/srv/home/chenyu/JDDC/GlobalParSearch/Round3/0.3/10/300/0.01/10Frames_B1.par\n",
      "/srv/home/chenyu/JDDC/GlobalParSearch/Round3/0.3/10/300/0.25/10Frames_B1.par\n",
      "/srv/home/chenyu/JDDC/GlobalParSearch/Round3/0.3/10/300/0.5/10Frames_B1.par\n",
      "/srv/home/chenyu/JDDC/GlobalParSearch/Round3/0.3/10/300/0.75/10Frames_B1.par\n",
      "/srv/home/chenyu/JDDC/GlobalParSearch/Round3/0.3/10/350/0.1/10Frames_B1.par\n",
      "/srv/home/chenyu/JDDC/GlobalParSearch/Round3/0.3/10/350/0.01/10Frames_B1.par\n",
      "/srv/home/chenyu/JDDC/GlobalParSearch/Round3/0.3/10/350/0.25/10Frames_B1.par\n",
      "/srv/home/chenyu/JDDC/GlobalParSearch/Round3/0.3/10/350/0.5/10Frames_B1.par\n",
      "/srv/home/chenyu/JDDC/GlobalParSearch/Round3/0.3/10/350/0.75/10Frames_B1.par\n",
      "/srv/home/chenyu/JDDC/GlobalParSearch/Round3/0.3/10/400/0.1/10Frames_B1.par\n",
      "/srv/home/chenyu/JDDC/GlobalParSearch/Round3/0.3/10/400/0.01/10Frames_B1.par\n",
      "/srv/home/chenyu/JDDC/GlobalParSearch/Round3/0.3/10/400/0.25/10Frames_B1.par\n",
      "/srv/home/chenyu/JDDC/GlobalParSearch/Round3/0.3/10/400/0.5/10Frames_B1.par\n",
      "/srv/home/chenyu/JDDC/GlobalParSearch/Round3/0.3/10/400/0.75/10Frames_B1.par\n"
     ]
    }
   ],
   "source": [
    "# Create parameter file for single batch\n",
    "default_file = '/srv/home/chenyu/JDDC/GlobalParSearch/10Frames_B1.par'\n",
    "with open(default_file) as f:\n",
    "    datafile = f.readlines()\n",
    "    for i1 in range(len(RatioRange)):\n",
    "        for i2 in range(len(RegYRange)):\n",
    "            for i3 in range(len(Y1L2Range)):\n",
    "                for i4 in range(len(Y2L2Range)):\n",
    "                    path = str(RatioRange[i1]) + '/' + str(RegYRange[i2]) + '/' + str(Y1L2Range[i3]) + '/' + str(Y2L2Range[i4]) + '/'\n",
    "                    par_file = base + path + '10Frames_B1.par'\n",
    "                    print(par_file)\n",
    "                    f2 = open(par_file,\"w+\")\n",
    "                    for i in range(len(datafile)):\n",
    "#                         print(datafile[i])\n",
    "                        temp = datafile[i].split(' ')\n",
    "                        if temp[0] == 'weightRatioPenalty':\n",
    "                            f2.write('weightRatioPenalty ' + str(RatioRange[i1]) + '\\n')\n",
    "                        elif temp[0] == 'weightRegY':\n",
    "                            f2.write('weightRegY ' + str(RegYRange[i2]) + '\\n')\n",
    "                        elif temp[0] == 'weightY1L2':\n",
    "                            f2.write('weightY1L2 ' + str(Y1L2Range[i3]) + '\\n')\n",
    "                        elif temp[0] == 'weightY2L2':\n",
    "                            f2.write('weightY2L2 ' + str(Y2L2Range[i4]) + '\\n')\n",
    "                        elif temp[0] == 'saveDirectory':\n",
    "                            f2.write('saveDirectory ' + path + '10Frames_B1\\n')\n",
    "                        else:\n",
    "                            f2.write(datafile[i])\n",
    "                    f2.close()"
   ]
  },
  {
   "cell_type": "code",
   "execution_count": 8,
   "metadata": {},
   "outputs": [
    {
     "name": "stdout",
     "output_type": "stream",
     "text": [
      "/srv/home/chenyu/JDDC/GlobalParSearch/Round3/Submission_0.sh\n",
      "/srv/home/chenyu/JDDC/GlobalParSearch/Round3/Submission_1.sh\n",
      "/srv/home/chenyu/JDDC/GlobalParSearch/Round3/Submission_2.sh\n",
      "/srv/home/chenyu/JDDC/GlobalParSearch/Round3/Submission_3.sh\n"
     ]
    }
   ],
   "source": [
    "# Create job submission files\n",
    "base = '/srv/home/chenyu/JDDC/GlobalParSearch/Round3/'\n",
    "njobs_per_submission = 5\n",
    "ifile = 0\n",
    "isubmission = 0\n",
    "for i1 in range(len(RatioRange)):\n",
    "    for i2 in range(len(RegYRange)):\n",
    "        for i3 in range(len(Y1L2Range)):\n",
    "            for i4 in range(len(Y2L2Range)):\n",
    "                path = str(RatioRange[i1]) + '/' + str(RegYRange[i2]) + '/' + str(Y1L2Range[i3]) + '/' + str(Y2L2Range[i4]) + '/'\n",
    "                par_file = base + path + '10Frames_B1.par'\n",
    "                if ifile == 0:\n",
    "                    submission_file = base + 'Submission_' + str(isubmission) + '.sh'\n",
    "                    print(submission_file)\n",
    "                    f2 = open(submission_file,\"w+\")\n",
    "                    f2.write('#!/bin/sh\\n\\n')\n",
    "                    f2.write('#SBATCH --job-name=Test_' + str(isubmission) + '\\n#SBATCH --partition=stem\\n')\n",
    "                    f2.write('#SBATCH --error=Test_' + str(isubmission) + '.err\\n')\n",
    "                    f2.write('#SBATCH --output=Test_' + str(isubmission) + '.out\\n')\n",
    "                    f2.write('#SBATCH --time=7-00:00:00\\n')\n",
    "                    f2.write('#SBATCH --nodes=1\\n')\n",
    "                    f2.write('#SBATCH --ntasks=20\\n')\n",
    "                    f2.write('##SBATCH --export=ALL\\n')\n",
    "                    f2.write('echo \"Started on:\"\\ndate\\n')\n",
    "                    f2.write('export LD_LIBRARY_PATH=\"/home/czhang376/bin/OpenBLAS-0.2.20/lib:/home/czhang376/bin/SuiteSparse/lib\"\\n\\n')\n",
    "                    isubmission = isubmission + 1\n",
    "                f2.write('/home/czhang376/bin/JDDC/quocGCC/projects/electronMicroscopy/jointUndistDenoise ' + path + '10Frames_B1.par\\n\\n')\n",
    "                f2.write('mkdir ' + path + '10Frames_B1_results\\n')\n",
    "                f2.write('mv ' + path + '10Frames_B1/*.csv ' + path + '10Frames_B1_results\\n')\n",
    "                f2.write('mv ' + path + '10Frames_B1/*.txt ' + path + '10Frames_B1_results\\n')\n",
    "                f2.write('mv ' + path + '10Frames_B1/bump-0_003-marked.png ' + path + '10Frames_B1_results\\n')\n",
    "                f2.write('rm -r ' + path + '10Frames_B1/\\n\\n')\n",
    "                ifile = ifile + 1\n",
    "                if ifile == njobs_per_submission:\n",
    "                    ifile = 0\n",
    "                    f2.write('echo \"Finished on:\"\\ndate\\n')\n",
    "                    f2.close()\n",
    "                    # After the whole file writing, replace Windows style \\r\\n with Unix style \\n\n",
    "                    fileContents = open(submission_file,\"r\").read()\n",
    "                    f2 = open(submission_file,\"w\", newline=\"\\n\")\n",
    "                    f2.write(fileContents)\n",
    "                    f2.close()"
   ]
  },
  {
   "cell_type": "code",
   "execution_count": 65,
   "metadata": {},
   "outputs": [],
   "source": [
    "submission_file = 'D:/2019/JDDC/GlobalParameterTest/10Frmaes_B1.par'\n",
    "fileContents = open(submission_file,\"r\").read()\n",
    "f = open(submission_file,\"w\", newline=\"\\n\")\n",
    "f.write(fileContents)\n",
    "f.close()\n"
   ]
  },
  {
   "cell_type": "code",
   "execution_count": 59,
   "metadata": {},
   "outputs": [
    {
     "data": {
      "text/plain": [
       "['\\n',\n",
       " '#SBATCH --job-name=Test_497\\n',\n",
       " '#SBATCH --partition=stem\\n',\n",
       " '#SBATCH --error=Test_497.err\\n',\n",
       " '#SBATCH --output=Test_497.out\\n',\n",
       " '#SBATCH --time=7-00:00:00\\n',\n",
       " '#SBATCH --nodes=1\\n',\n",
       " '#SBATCH --ntasks=1\\n',\n",
       " '##SBATCH --export=ALL\\n',\n",
       " 'echo \"Started on:\"\\n',\n",
       " 'date\\n',\n",
       " 'export LD_LIBRARY_PATH=\"/home/czhang376/bin/OpenBLAS-0.2.20/lib:/home/czhang376/bin/SuiteSparse/lib\"\\n',\n",
       " '\\n',\n",
       " '/home/czhang376/bin/JDDC/quocGCC/projects/electronMicroscopy/jointUndistDenoise /0.3/500/500/50/10Frames_B1.par\\n',\n",
       " '\\n',\n",
       " 'mkdir 0.3/500/500/50/10Frames_B1_results\\n',\n",
       " 'mv 0.3/500/500/50//10Frames_B1/*.csv 0.3/500/500/50/10Frames_B1_results\\n',\n",
       " 'mv 0.3/500/500/50//10Frames_B1/*.txt 0.3/500/500/50/10Frames_B1_results\\n',\n",
       " 'mv 0.3/500/500/50//10Frames_B1/bump-0_003-marked.png 0.3/500/500/50/10Frames_B1_results\\n',\n",
       " 'rm -r 0.3/500/500/50//10Frames_B1/\\n',\n",
       " '\\n',\n",
       " 'echo \"Finished on:\"\\n',\n",
       " 'date\\n']"
      ]
     },
     "execution_count": 59,
     "metadata": {},
     "output_type": "execute_result"
    }
   ],
   "source": [
    "f2.readlines()"
   ]
  },
  {
   "cell_type": "code",
   "execution_count": null,
   "metadata": {},
   "outputs": [],
   "source": []
  }
 ],
 "metadata": {
  "kernelspec": {
   "display_name": "Python 3",
   "language": "python",
   "name": "python3"
  },
  "language_info": {
   "codemirror_mode": {
    "name": "ipython",
    "version": 3
   },
   "file_extension": ".py",
   "mimetype": "text/x-python",
   "name": "python",
   "nbconvert_exporter": "python",
   "pygments_lexer": "ipython3",
   "version": "3.6.6"
  }
 },
 "nbformat": 4,
 "nbformat_minor": 2
}
