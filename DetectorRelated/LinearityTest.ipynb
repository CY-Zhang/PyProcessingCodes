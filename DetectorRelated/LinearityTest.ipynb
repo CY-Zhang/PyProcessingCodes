{
 "cells": [
  {
   "cell_type": "code",
   "execution_count": 186,
   "metadata": {},
   "outputs": [],
   "source": [
    "import os\n",
    "import scipy.io as sio\n",
    "import scipy.misc as smisc\n",
    "import numpy as np\n",
    "import re as regexp\n",
    "import math\n",
    "import matplotlib.pyplot as plt\n",
    "import scipy\n",
    "\n",
    "from scipy import ndimage as ndi\n",
    "import matplotlib.pyplot as plt\n",
    "from skimage.feature import peak_local_max\n",
    "from skimage import data, img_as_float\n",
    "\n",
    "import scipy.io\n",
    "import time\n",
    "import glob,os\n",
    "\n",
    "import struct\n",
    "import mrcfile\n",
    "import numpy as np\n",
    "import math\n",
    "import matplotlib.pyplot as plt\n",
    "import scipy.io\n",
    "import time\n",
    "from skimage import measure\n",
    "from skimage import filters"
   ]
  },
  {
   "cell_type": "markdown",
   "metadata": {},
   "source": [
    "# Linearity Test\n",
    "This script analysis series taken with no sample on the sensor, standard settings for 4DSTEM (1025px, bin2, 1100FPS) was used, different combinations of CL and SS were used to generate different dose/px/frame on the sensor. Dose/px/frame will change proportional to camera length and spot size.\n",
    "Make a plot of mean intensity vs dose/px/frame."
   ]
  },
  {
   "cell_type": "code",
   "execution_count": 144,
   "metadata": {},
   "outputs": [
    {
     "data": {
      "text/plain": [
       "3991.2232923923248"
      ]
     },
     "execution_count": 144,
     "metadata": {},
     "output_type": "execute_result"
    }
   ],
   "source": [
    "int_list[-1]"
   ]
  },
  {
   "cell_type": "code",
   "execution_count": 169,
   "metadata": {},
   "outputs": [
    {
     "name": "stdout",
     "output_type": "stream",
     "text": [
      "Reading file /srv/home/chenyu/DEbackup/060219/LinearityTest/CL300_SS7.seq\n",
      "Camera length 300 Spot Size 7: mean int 1918.8135039531178\n",
      "Reading file /srv/home/chenyu/DEbackup/060219/LinearityTest/CL1200_SS9.seq\n",
      "Camera length 1200 Spot Size 9: mean int 21.620863820993563\n",
      "Reading file /srv/home/chenyu/DEbackup/060219/LinearityTest/CL480_SS7.seq\n",
      "Camera length 480 Spot Size 7: mean int 676.2446763587479\n",
      "Reading file /srv/home/chenyu/DEbackup/060219/LinearityTest/CL940_SS7.seq\n",
      "Camera length 940 Spot Size 7: mean int 165.3932242331694\n",
      "Reading file /srv/home/chenyu/DEbackup/060219/LinearityTest/CL46_SS10.seq\n",
      "Mask applied\n",
      "Camera length 46 Spot Size 10: mean int 10178.332843398994\n",
      "Reading file /srv/home/chenyu/DEbackup/060219/LinearityTest/CL300_SS6.seq\n",
      "Camera length 300 Spot Size 6: mean int 3991.2232923923248\n",
      "Reading file /srv/home/chenyu/DEbackup/060219/LinearityTest/CL480_SS6.seq\n",
      "Camera length 480 Spot Size 6: mean int 1363.8650976295387\n",
      "Reading file /srv/home/chenyu/DEbackup/060219/LinearityTest/CL770_SS7.seq\n",
      "Camera length 770 Spot Size 7: mean int 262.19746806526234\n",
      "Reading file /srv/home/chenyu/DEbackup/060219/LinearityTest/CL300_SS9.seq\n",
      "Camera length 300 Spot Size 9: mean int 498.5153702788854\n",
      "Reading file /srv/home/chenyu/DEbackup/060219/LinearityTest/CL1200_SS7.seq\n",
      "Camera length 1200 Spot Size 7: mean int 106.26151993901168\n",
      "Reading file /srv/home/chenyu/DEbackup/060219/LinearityTest/CL940_SS9.seq\n",
      "Camera length 940 Spot Size 9: mean int 37.48955528525729\n",
      "Reading file /srv/home/chenyu/DEbackup/060219/LinearityTest/CL480_SS10.seq\n",
      "Camera length 480 Spot Size 10: mean int 92.84145665343958\n",
      "Reading file /srv/home/chenyu/DEbackup/060219/LinearityTest/CL160_SS7.seq\n",
      "Camera length 160 Spot Size 7: mean int 6332.712670761985\n",
      "Reading file /srv/home/chenyu/DEbackup/060219/LinearityTest/CL940_SS8.seq\n",
      "Camera length 940 Spot Size 8: mean int 84.35633264061798\n",
      "Reading file /srv/home/chenyu/DEbackup/060219/LinearityTest/CL940_SS10.seq\n",
      "Camera length 940 Spot Size 10: mean int 12.135305653684167\n",
      "Reading file /srv/home/chenyu/DEbackup/060219/LinearityTest/CL130_SS8.seq\n",
      "Mask applied\n",
      "Camera length 130 Spot Size 8: mean int 4928.902948501221\n",
      "Reading file /srv/home/chenyu/DEbackup/060219/LinearityTest/CL1200_SS10.seq\n",
      "Camera length 1200 Spot Size 10: mean int 11.314867575467677\n",
      "Reading file /srv/home/chenyu/DEbackup/060219/LinearityTest/CL940_SS6.seq\n",
      "Camera length 940 Spot Size 6: mean int 349.2737234796092\n",
      "Reading file /srv/home/chenyu/DEbackup/060219/LinearityTest/CL600_SS10.seq\n",
      "Camera length 600 Spot Size 10: mean int 56.97652489994556\n",
      "Reading file /srv/home/chenyu/DEbackup/060219/LinearityTest/CL245_SS6.seq\n",
      "Camera length 245 Spot Size 6: mean int 5755.00318099215\n",
      "Reading file /srv/home/chenyu/DEbackup/060219/LinearityTest/CL195_SS6.seq\n",
      "Camera length 195 Spot Size 6: mean int 8755.511102369315\n",
      "Reading file /srv/home/chenyu/DEbackup/060219/LinearityTest/CL77_SS10.seq\n",
      "Mask applied\n",
      "Camera length 77 Spot Size 10: mean int 3837.394617339094\n",
      "Reading file /srv/home/chenyu/DEbackup/060219/LinearityTest/CL130_SS10.seq\n",
      "Mask applied\n",
      "Camera length 130 Spot Size 10: mean int 1373.776806456996\n",
      "Reading file /srv/home/chenyu/DEbackup/060219/LinearityTest/CL160_SS6.seq\n",
      "Camera length 160 Spot Size 6: mean int 13489.778956629429\n",
      "Reading file /srv/home/chenyu/DEbackup/060219/LinearityTest/CL60_SS9.seq\n",
      "Mask applied\n",
      "Camera length 60 Spot Size 9: mean int 11989.566114248466\n",
      "Reading file /srv/home/chenyu/DEbackup/060219/LinearityTest/CL600_SS9.seq\n",
      "Camera length 600 Spot Size 9: mean int 108.72041773931477\n",
      "Reading file /srv/home/chenyu/DEbackup/060219/LinearityTest/CL600_SS6.seq\n",
      "Camera length 600 Spot Size 6: mean int 914.341512612085\n",
      "Reading file /srv/home/chenyu/DEbackup/060219/LinearityTest/CL130_SS9.seq\n",
      "Mask applied\n",
      "Camera length 130 Spot Size 9: mean int 2493.4849652537837\n",
      "Reading file /srv/home/chenyu/DEbackup/060219/LinearityTest/CL1200_SS6.seq\n",
      "Camera length 1200 Spot Size 6: mean int 222.84149640317477\n",
      "Reading file /srv/home/chenyu/DEbackup/060219/LinearityTest/CL130_SS6.seq\n",
      "Mask applied\n",
      "Camera length 130 Spot Size 6: mean int 21750.926374630337\n",
      "Reading file /srv/home/chenyu/DEbackup/060219/LinearityTest/CL770_SS9.seq\n",
      "Camera length 770 Spot Size 9: mean int 64.88533105067849\n",
      "Reading file /srv/home/chenyu/DEbackup/060219/LinearityTest/CL245_SS9.seq\n",
      "Camera length 245 Spot Size 9: mean int 684.8162404210008\n",
      "Reading file /srv/home/chenyu/DEbackup/060219/LinearityTest/CL380_SS8.seq\n",
      "Camera length 380 Spot Size 8: mean int 579.2785134977704\n",
      "Reading file /srv/home/chenyu/DEbackup/060219/LinearityTest/CL480_SS8.seq\n",
      "Camera length 480 Spot Size 8: mean int 336.60666429068743\n",
      "Reading file /srv/home/chenyu/DEbackup/060219/LinearityTest/CL770_SS8.seq\n",
      "Camera length 770 Spot Size 8: mean int 138.22720497941523\n",
      "Reading file /srv/home/chenyu/DEbackup/060219/LinearityTest/CL300_SS8.seq\n",
      "Camera length 300 Spot Size 8: mean int 966.67774486998\n",
      "Reading file /srv/home/chenyu/DEbackup/060219/LinearityTest/CL380_SS10.seq\n",
      "Camera length 380 Spot Size 10: mean int 163.95641371609318\n",
      "Reading file /srv/home/chenyu/DEbackup/060219/LinearityTest/CL60_SS10.seq\n",
      "Mask applied\n",
      "Camera length 60 Spot Size 10: mean int 6497.779378784684\n",
      "Reading file /srv/home/chenyu/DEbackup/060219/LinearityTest/CL77_SS6.seq\n",
      "Mask applied\n",
      "Camera length 77 Spot Size 6: mean int 59719.88666901835\n",
      "Reading file /srv/home/chenyu/DEbackup/060219/LinearityTest/CL1200_SS8.seq\n",
      "Camera length 1200 Spot Size 8: mean int 47.591970898343426\n",
      "Reading file /srv/home/chenyu/DEbackup/060219/LinearityTest/CL130_SS7.seq\n",
      "Mask applied\n",
      "Camera length 130 Spot Size 7: mean int 10204.806458351077\n",
      "Reading file /srv/home/chenyu/DEbackup/060219/LinearityTest/CL195_SS8.seq\n",
      "Camera length 195 Spot Size 8: mean int 2036.227280750733\n",
      "Reading file /srv/home/chenyu/DEbackup/060219/LinearityTest/CL100_SS9.seq\n",
      "Mask applied\n",
      "Camera length 100 Spot Size 9: mean int 3979.6260333065175\n",
      "Reading file /srv/home/chenyu/DEbackup/060219/LinearityTest/CL77_SS9.seq\n",
      "Mask applied\n",
      "Camera length 77 Spot Size 9: mean int 7096.864042813744\n",
      "Reading file /srv/home/chenyu/DEbackup/060219/LinearityTest/CL195_SS9.seq\n",
      "Camera length 195 Spot Size 9: mean int 1053.2167023964726\n",
      "Reading file /srv/home/chenyu/DEbackup/060219/LinearityTest/CL380_SS6.seq\n",
      "Camera length 380 Spot Size 6: mean int 2384.7548919661904\n",
      "Reading file /srv/home/chenyu/DEbackup/060219/LinearityTest/CL245_SS7.seq\n",
      "Camera length 245 Spot Size 7: mean int 2739.399464478734\n",
      "Reading file /srv/home/chenyu/DEbackup/060219/LinearityTest/CL46_SS9.seq\n",
      "Mask applied\n",
      "Camera length 46 Spot Size 9: mean int 18745.862436809388\n",
      "Reading file /srv/home/chenyu/DEbackup/060219/LinearityTest/CL100_SS10.seq\n",
      "Mask applied\n",
      "Camera length 100 Spot Size 10: mean int 2185.8654536423824\n",
      "Reading file /srv/home/chenyu/DEbackup/060219/LinearityTest/CL100_SS7.seq\n",
      "Mask applied\n",
      "Camera length 100 Spot Size 7: mean int 16387.816192720602\n",
      "Reading file /srv/home/chenyu/DEbackup/060219/LinearityTest/CL480_SS9.seq\n",
      "Camera length 480 Spot Size 9: mean int 195.0248550858801\n",
      "Reading file /srv/home/chenyu/DEbackup/060219/LinearityTest/CL770_SS10.seq\n",
      "Camera length 770 Spot Size 10: mean int 36.031682171989026\n",
      "Reading file /srv/home/chenyu/DEbackup/060219/LinearityTest/CL300_SS10.seq\n",
      "Camera length 300 Spot Size 10: mean int 264.62827900830814\n",
      "Reading file /srv/home/chenyu/DEbackup/060219/LinearityTest/CL160_SS10.seq\n",
      "Camera length 160 Spot Size 10: mean int 845.1545572316431\n",
      "Reading file /srv/home/chenyu/DEbackup/060219/LinearityTest/CL600_SS7.seq\n",
      "Camera length 600 Spot Size 7: mean int 447.2959564386767\n",
      "Reading file /srv/home/chenyu/DEbackup/060219/LinearityTest/CL245_SS10.seq\n",
      "Camera length 245 Spot Size 10: mean int 375.76209273326697\n",
      "Reading file /srv/home/chenyu/DEbackup/060219/LinearityTest/CL160_SS8.seq\n",
      "Camera length 160 Spot Size 8: mean int 3065.4479513180163\n",
      "Reading file /srv/home/chenyu/DEbackup/060219/LinearityTest/CL195_SS7.seq\n",
      "Camera length 195 Spot Size 7: mean int 4152.01927200827\n",
      "Reading file /srv/home/chenyu/DEbackup/060219/LinearityTest/CL100_SS8.seq\n",
      "Mask applied\n",
      "Camera length 100 Spot Size 8: mean int 7923.654658161583\n",
      "Reading file /srv/home/chenyu/DEbackup/060219/LinearityTest/CL77_SS7.seq\n",
      "Mask applied\n",
      "Camera length 77 Spot Size 7: mean int 29270.881280604262\n",
      "Reading file /srv/home/chenyu/DEbackup/060219/LinearityTest/CL195_SS10.seq\n"
     ]
    },
    {
     "name": "stdout",
     "output_type": "stream",
     "text": [
      "Camera length 195 Spot Size 10: mean int 566.2865960423379\n",
      "Reading file /srv/home/chenyu/DEbackup/060219/LinearityTest/CL100_SS6.seq\n",
      "Mask applied\n",
      "Camera length 100 Spot Size 6: mean int 34345.572202109346\n",
      "Reading file /srv/home/chenyu/DEbackup/060219/LinearityTest/CL770_SS6.seq\n",
      "Camera length 770 Spot Size 6: mean int 543.5813927492617\n",
      "Reading file /srv/home/chenyu/DEbackup/060219/LinearityTest/CL77_SS8.seq\n",
      "Mask applied\n",
      "Camera length 77 Spot Size 8: mean int 14208.64450573601\n",
      "Reading file /srv/home/chenyu/DEbackup/060219/LinearityTest/CL160_SS9.seq\n",
      "Camera length 160 Spot Size 9: mean int 1548.301978827002\n",
      "Reading file /srv/home/chenyu/DEbackup/060219/LinearityTest/CL380_SS7.seq\n",
      "Camera length 380 Spot Size 7: mean int 1160.8367348447055\n",
      "Reading file /srv/home/chenyu/DEbackup/060219/LinearityTest/CL380_SS9.seq\n",
      "Camera length 380 Spot Size 9: mean int 284.7436725507654\n",
      "Reading file /srv/home/chenyu/DEbackup/060219/LinearityTest/CL245_SS8.seq\n",
      "Camera length 245 Spot Size 8: mean int 1344.9940409153448\n",
      "Reading file /srv/home/chenyu/DEbackup/060219/LinearityTest/CL600_SS8.seq\n",
      "Camera length 600 Spot Size 8: mean int 225.530502553408\n"
     ]
    }
   ],
   "source": [
    "path = '/srv/home/chenyu/DEbackup/060219/LinearityTest/'\n",
    "filelist = glob.glob(path + '*.seq')\n",
    "CL_list = []\n",
    "SS_list = []\n",
    "int_list = []\n",
    "for i in range(len(filelist)):\n",
    "    fileName = filelist[i]\n",
    "    temp = fileName.split('/')[-1]\n",
    "    CL = int(temp.split('_')[0][2:])\n",
    "    SS = int(temp.split('_')[1][2:-4])\n",
    "    CL_list.append(CL)\n",
    "    SS_list.append(SS)\n",
    "    darkrefFile = filelist[i] + '.dark.mrc'\n",
    "    gainrefFile = filelist[i] + '.gain.mrc'\n",
    "    darkref = loadMRCfile(darkrefFile)\n",
    "    gainref = loadMRCfile(gainrefFile)\n",
    "    numframes, true_imagesize = loadHeader(fileName,darkref)\n",
    "    frame_accumulated = saveFile(fileName,  darkref, gainref, 100, true_imagesize)\n",
    "    if CL<= 130:\n",
    "        # case for high dose where beam cannot fill the whole frame\n",
    "        mask = np.heaviside(frame_accumulated-700,1)\n",
    "        int_list.append(np.sum(frame_accumulated*mask)/np.sum(mask))\n",
    "        print('Mask applied')\n",
    "    else:\n",
    "        int_list.append(np.mean(frame_accumulated))\n",
    "    print('Camera length '+ str(CL) + ' Spot Size ' + str(SS) + ': mean int ' + str(int_list[-1]))"
   ]
  },
  {
   "cell_type": "code",
   "execution_count": 154,
   "metadata": {},
   "outputs": [
    {
     "data": {
      "text/plain": [
       "<matplotlib.image.AxesImage at 0x7f8fec28f630>"
      ]
     },
     "execution_count": 154,
     "metadata": {},
     "output_type": "execute_result"
    },
    {
     "data": {
      "image/png": "[encoded data removed]",
      "text/plain": [
       "<Figure size 432x288 with 1 Axes>"
      ]
     },
     "metadata": {},
     "output_type": "display_data"
    }
   ],
   "source": [
    "plt.imshow(mask)"
   ]
  },
  {
   "cell_type": "code",
   "execution_count": 183,
   "metadata": {},
   "outputs": [
    {
     "name": "stdout",
     "output_type": "stream",
     "text": [
      "Camera length 1200 Spot Size 10\n",
      "Reading file /srv/home/chenyu/DEbackup/060219/LinearityTest/CL1200_SS10.seq\n"
     ]
    }
   ],
   "source": [
    "fileName = '/srv/home/chenyu/DEbackup/060219/LinearityTest/CL1200_SS10.seq'\n",
    "temp = fileName.split('/')[-1]\n",
    "CL = int(temp.split('_')[0][2:])\n",
    "SS = int(temp.split('_')[1][2:-4])\n",
    "print('Camera length '+ str(CL) + ' Spot Size ' + str(SS))\n",
    "darkrefFile = fileName + '.dark.mrc'\n",
    "gainrefFile = fileName + '.gain.mrc'\n",
    "darkref = loadMRCfile(darkrefFile)\n",
    "gainref = loadMRCfile(gainrefFile)\n",
    "numframes, true_imagesize = loadHeader(fileName,darkref)\n",
    "frame_accumulated = saveFile(fileName,  darkref, gainref, 1, true_imagesize)"
   ]
  },
  {
   "cell_type": "code",
   "execution_count": 188,
   "metadata": {},
   "outputs": [
    {
     "name": "stdout",
     "output_type": "stream",
     "text": [
      "826\n"
     ]
    }
   ],
   "source": [
    "frame = frame_accumulated\n",
    "frame_binary = np.heaviside(frame-10,1)\n",
    "all_labels = measure.label(frame_binary)\n",
    "ncomponents = np.amax(all_labels)\n",
    "print(ncomponents)"
   ]
  },
  {
   "cell_type": "code",
   "execution_count": 168,
   "metadata": {},
   "outputs": [
    {
     "name": "stdout",
     "output_type": "stream",
     "text": [
      "6244.812515927975\n",
      "14208.64450573601\n",
      "True\n"
     ]
    },
    {
     "data": {
      "image/png": "[encoded data removed]",
      "text/plain": [
       "<Figure size 432x288 with 2 Axes>"
      ]
     },
     "metadata": {},
     "output_type": "display_data"
    }
   ],
   "source": [
    "mask = np.heaviside(frame_accumulated-700,1)\n",
    "plt.imshow(mask)\n",
    "plt.colorbar()\n",
    "print(np.mean(frame_accumulated))\n",
    "print(np.sum(frame_accumulated*mask)/np.sum(mask))\n",
    "print(CL<=130)"
   ]
  },
  {
   "cell_type": "code",
   "execution_count": 85,
   "metadata": {},
   "outputs": [
    {
     "name": "stdout",
     "output_type": "stream",
     "text": [
      "[1.91881350e+01 2.16208638e-01 6.76244676e+00 1.65393224e+00\n",
      " 1.78899226e+01 3.99122329e+01 1.36386510e+01 2.62197468e+00\n",
      " 4.98515370e+00 1.06261520e+00 3.74895553e-01 9.28414567e-01\n",
      " 6.33271267e+01 8.43563326e-01 1.21353057e-01 4.73594953e+01\n",
      " 1.13148676e-01 3.49273723e+00 5.69765249e-01 5.75500318e+01\n",
      " 8.75551110e+01 1.65936136e+01 1.31658388e+01 1.34897790e+02\n",
      " 3.24480909e+01 1.08720418e+00 9.14341513e+00 2.39375718e+01\n",
      " 2.22841496e+00 2.09980511e+02 6.48853311e-01 6.84816240e+00\n",
      " 5.79278513e+00 3.36606664e+00 1.38227205e+00 9.66677745e+00\n",
      " 1.63956414e+00 1.73996718e+01 2.76976362e+02 4.75919709e-01\n",
      " 9.82123205e+01 2.03622728e+01 2.98157481e+01 3.08713020e+01\n",
      " 1.05321670e+01 2.38475489e+01 2.73939946e+01 3.36601502e+01\n",
      " 1.63312919e+01 1.24868152e+02 1.95024855e+00 3.60316822e-01\n",
      " 2.64628279e+00 8.45154557e+00 4.47295956e+00 3.75762093e+00\n",
      " 3.06544795e+01 4.15201927e+01 5.97317173e+01 1.31386516e+02\n",
      " 5.66286596e+00 2.67062640e+02 5.43581393e+00 6.24481252e+01\n",
      " 1.54830198e+01 1.16083673e+01 2.84743673e+00 1.34499404e+01\n",
      " 2.25530503e+00]\n"
     ]
    }
   ],
   "source": [
    "print(np.asarray(int_list)/100)"
   ]
  },
  {
   "cell_type": "code",
   "execution_count": 182,
   "metadata": {},
   "outputs": [
    {
     "data": {
      "image/png": "[encoded data removed]",
      "text/plain": [
       "<Figure size 432x288 with 1 Axes>"
      ]
     },
     "metadata": {},
     "output_type": "display_data"
    }
   ],
   "source": [
    "CL_list = np.asarray(CL_list).astype(float)\n",
    "SS_list = np.asarray(SS_list).astype(float)\n",
    "Dose_list = 60*60/CL_list/CL_list * 2 ** (9-SS_list)\n",
    "plt.scatter(Dose_list,np.asarray(int_list)/100)\n",
    "# plt.yscale('log')\n",
    "# plt.xlim([0,0.05])\n",
    "# plt.ylim([0,6])\n",
    "plt.xlabel('Relative Dose',fontsize=20)\n",
    "plt.ylabel('Mean Intensity (counts)', fontsize=20)\n",
    "plt.tick_params(labelsize=15)"
   ]
  },
  {
   "cell_type": "code",
   "execution_count": 3,
   "metadata": {},
   "outputs": [],
   "source": [
    "def loadMRCfile(filepath):\n",
    "    with open(filepath, mode='rb') as file: # b is important -> binary\n",
    "        file.seek(0)\n",
    "        read_bytes = file.read(8)\n",
    "        frame_width = struct.unpack('<i',read_bytes[0:4])\n",
    "        frame_width = frame_width[0]\n",
    "        frame_height = struct.unpack('<i',read_bytes[4:8])\n",
    "        frame_height = frame_height[0]\n",
    "        image = np.zeros((frame_height,frame_width))\n",
    "        file.seek(256*4)\n",
    "        dataset = file.read(frame_width*frame_height*4)\n",
    "        for irow in range(frame_height):\n",
    "            for icol in range(frame_width):\n",
    "                pixel = struct.unpack('<f',dataset[(irow*frame_width+icol)*4:(irow*frame_width+icol+1)*4])[0]\n",
    "                image[irow,icol] = pixel\n",
    "        return image"
   ]
  },
  {
   "cell_type": "code",
   "execution_count": 43,
   "metadata": {},
   "outputs": [],
   "source": [
    "def loadHeader(fileName,darkref):\n",
    "    print('Reading file ' + fileName)\n",
    "    with open(fileName, mode='rb') as file: # b is important -> binary\n",
    "        file.seek(548)\n",
    "        read_bytes = file.read(20)\n",
    "        frame_width = struct.unpack('<L',read_bytes[0:4])\n",
    "        frame_height = struct.unpack('<L',read_bytes[4:8])\n",
    "        bit_depth = struct.unpack('<L',read_bytes[8:12])\n",
    "        bit_depth_real = struct.unpack('<L',read_bytes[12:16])\n",
    "        frame_bytesize = struct.unpack('<L',read_bytes[16:20])\n",
    "#         print('Each frame is ' + str(frame_width[0]) + ' by ' + str(frame_height[0]) + ' px.')\n",
    "\n",
    "        file.seek(572)\n",
    "        read_bytes = file.read(4)\n",
    "        num_frames = struct.unpack('<i',read_bytes)\n",
    "#         print('Total ' + str(num_frames[0]) + ' frames collected.')\n",
    "\n",
    "        file.seek(584)\n",
    "        read_bytes = file.read(8)\n",
    "        frame_rate = struct.unpack('<d',read_bytes)\n",
    "#         print('Image acquired at ' + str(frame_rate[0]) + ' frames per second.')\n",
    "\n",
    "        file.seek(580)\n",
    "        read_bytes = file.read(4)\n",
    "        true_imagesize = struct.unpack('<L',read_bytes[0:4])\n",
    "\n",
    "        if frame_width[0] != darkref.shape[0] or frame_height[0] != darkref.shape[1]:\n",
    "            print('Norpix frame size (' + str(frame_height[0]) + ',' +str(frame_width[0]) +  ') disagree with reference size' + str(darkref.shape))\n",
    "            \n",
    "        return num_frames[0],true_imagesize[0]"
   ]
  },
  {
   "cell_type": "code",
   "execution_count": 20,
   "metadata": {},
   "outputs": [],
   "source": [
    "def saveFile(fileName, darkref, gainref, numframes, true_imagesize):\n",
    "    with open(fileName, mode='rb') as file:\n",
    "        frame_accumulated = np.zeros((darkref.shape[0],darkref.shape[1]))\n",
    "        for iframe in range(numframes):\n",
    "            file.seek(8192 + iframe * true_imagesize)\n",
    "            read_bytes = file.read(darkref.shape[0] * darkref.shape[1] * 2)\n",
    "            frame_raw = np.zeros((darkref.shape[0],darkref.shape[1]))\n",
    "            frame = np.zeros((darkref.shape[0],darkref.shape[1]))\n",
    "            for irow in range(darkref.shape[0]):\n",
    "                for icol in range(darkref.shape[1]):\n",
    "                    pixel = struct.unpack('<h',read_bytes[(irow*darkref.shape[1]+icol)*2:(irow*darkref.shape[1]+icol+1)*2])[0]\n",
    "                    frame_raw[irow,icol] = pixel\n",
    "            frame = (frame_raw - darkref)*gainref\n",
    "            frame_accumulated = frame_accumulated + frame\n",
    "    return frame_accumulated"
   ]
  },
  {
   "cell_type": "code",
   "execution_count": null,
   "metadata": {},
   "outputs": [],
   "source": []
  }
 ],
 "metadata": {
  "kernelspec": {
   "display_name": "Python 3",
   "language": "python",
   "name": "python3"
  },
  "language_info": {
   "codemirror_mode": {
    "name": "ipython",
    "version": 3
   },
   "file_extension": ".py",
   "mimetype": "text/x-python",
   "name": "python",
   "nbconvert_exporter": "python",
   "pygments_lexer": "ipython3",
   "version": "3.6.5"
  }
 },
 "nbformat": 4,
 "nbformat_minor": 2
}
