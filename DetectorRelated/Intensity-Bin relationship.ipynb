{
 "cells": [
  {
   "cell_type": "markdown",
   "metadata": {},
   "source": [
    "# Average intensity with different bin\n",
    "Problem: When using a binning factor of 2, camera will average inentsit in 4 px to one single px. If measure gain factor using single electron events, the gain with bin2 will be 1/4 of the gain for bin1. In this case, it would mean the dynamic range in number of electrons will be 4x in bin2 compared to bin1."
   ]
  },
  {
   "cell_type": "code",
   "execution_count": 1,
   "metadata": {},
   "outputs": [],
   "source": [
    "import os,glob\n",
    "import scipy.signal\n",
    "import scipy.io as sio\n",
    "import scipy.misc as smisc\n",
    "import numpy as np\n",
    "import re as regexp\n",
    "import math\n",
    "import matplotlib.pyplot as plt\n",
    "import csv\n",
    "import struct"
   ]
  },
  {
   "cell_type": "code",
   "execution_count": 2,
   "metadata": {},
   "outputs": [],
   "source": [
    "path_bin1 = '/srv/home/chenyu/DEbackup/082019/Test1/Bin1/npy/'\n",
    "path_bin2 = '/srv/home/chenyu/DEbackup/082019/Test1/Bin2/npy/'"
   ]
  },
  {
   "cell_type": "code",
   "execution_count": 4,
   "metadata": {},
   "outputs": [],
   "source": [
    "accumulated_bin1 = np.zeros(1024)\n",
    "accumulated_bin2 = np.zeros(512)\n",
    "for nSample in range(1,2000):\n",
    "    sample_bin1 = np.load(path_bin1 + 'S0_'+format(nSample,'05')+'.npy')\n",
    "    sample_bin2 = np.load(path_bin2 + 'S0_'+format(nSample,'05')+'.npy')\n",
    "    accumulated_bin1 = accumulated_bin1 + sample_bin1\n",
    "    accumulated_bin2 = accumulated_bin2 + sample_bin2"
   ]
  },
  {
   "cell_type": "code",
   "execution_count": 7,
   "metadata": {},
   "outputs": [
    {
     "name": "stdout",
     "output_type": "stream",
     "text": [
      "111.87650280369145\n",
      "106.93343358059096\n"
     ]
    }
   ],
   "source": [
    "print(np.mean(accumulated_bin1)/2000)\n",
    "print(np.mean(accumulated_bin2)/2000)"
   ]
  },
  {
   "cell_type": "code",
   "execution_count": null,
   "metadata": {},
   "outputs": [],
   "source": []
  }
 ],
 "metadata": {
  "kernelspec": {
   "display_name": "Python 3",
   "language": "python",
   "name": "python3"
  },
  "language_info": {
   "codemirror_mode": {
    "name": "ipython",
    "version": 3
   },
   "file_extension": ".py",
   "mimetype": "text/x-python",
   "name": "python",
   "nbconvert_exporter": "python",
   "pygments_lexer": "ipython3",
   "version": "3.6.5"
  }
 },
 "nbformat": 4,
 "nbformat_minor": 2
}
