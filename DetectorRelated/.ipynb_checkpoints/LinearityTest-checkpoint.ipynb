{
 "cells": [
  {
   "cell_type": "code",
   "execution_count": 1,
   "metadata": {},
   "outputs": [],
   "source": [
    "import os\n",
    "import scipy.io as sio\n",
    "import scipy.misc as smisc\n",
    "import numpy as np\n",
    "import re as regexp\n",
    "import math\n",
    "import matplotlib.pyplot as plt\n",
    "import scipy\n",
    "\n",
    "from scipy import ndimage as ndi\n",
    "import matplotlib.pyplot as plt\n",
    "from skimage.feature import peak_local_max\n",
    "from skimage import data, img_as_float\n",
    "\n",
    "import scipy.io\n",
    "import time\n",
    "import glob,os"
   ]
  },
  {
   "cell_type": "markdown",
   "metadata": {},
   "source": [
    "# Linearity Test\n",
    "This script analysis series taken with no sample on the sensor, standard settings for 4DSTEM (1025px, bin2, 1100FPS) was used, different combinations of CL and SS were used to generate different dose/px/frame on the sensor. Dose/px/frame will change proportional to camera length and spot size.\n",
    "Make a plot of mean intensity vs dose/px/frame."
   ]
  },
  {
   "cell_type": "code",
   "execution_count": null,
   "metadata": {},
   "outputs": [],
   "source": []
  }
 ],
 "metadata": {
  "kernelspec": {
   "display_name": "Python 3",
   "language": "python",
   "name": "python3"
  },
  "language_info": {
   "codemirror_mode": {
    "name": "ipython",
    "version": 3
   },
   "file_extension": ".py",
   "mimetype": "text/x-python",
   "name": "python",
   "nbconvert_exporter": "python",
   "pygments_lexer": "ipython3",
   "version": "3.6.5"
  }
 },
 "nbformat": 4,
 "nbformat_minor": 2
}
