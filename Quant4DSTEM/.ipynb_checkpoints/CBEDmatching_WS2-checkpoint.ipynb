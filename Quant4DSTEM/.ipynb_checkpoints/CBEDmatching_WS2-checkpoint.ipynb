{
 "cells": [
  {
   "cell_type": "code",
   "execution_count": 1,
   "metadata": {},
   "outputs": [],
   "source": [
    "import os\n",
    "import scipy.io as sio\n",
    "import scipy.misc as smisc\n",
    "import numpy as np\n",
    "import re as regexp\n",
    "import math\n",
    "import matplotlib.pyplot as plt\n",
    "import scipy\n",
    "\n",
    "from scipy import ndimage as ndi\n",
    "import matplotlib.pyplot as plt\n",
    "from skimage.feature import peak_local_max\n",
    "from skimage import data, img_as_float\n",
    "\n",
    "import scipy.io\n",
    "import time\n",
    "import glob,os\n",
    "import cv2\n",
    "from scipy import optimize\n",
    "from pylab import *\n",
    "\n",
    "import imutils\n",
    "import cv2"
   ]
  },
  {
   "cell_type": "code",
   "execution_count": null,
   "metadata": {},
   "outputs": [],
   "source": [
    "# Calculate mean scan profile from blank scan\n",
    "\n",
    "Path = '/srv/home/chenyu/DEbackup/062819/S3/'\n",
    "Name = 'S3'\n",
    "rx = 150\n",
    "ry = 150\n",
    "PACBED = np.zeros((512,512))\n",
    "for ix in range(rx):\n",
    "    for iy in range(ry):\n",
    "        filenum = ix*rx+iy+1\n",
    "        frame = np.load(Path+'npy/'+Name+'_'+format(filenum,'05')+'.npy')\n",
    "        PACBED = PACBED + frame"
   ]
  },
  {
   "cell_type": "code",
   "execution_count": null,
   "metadata": {},
   "outputs": [],
   "source": [
    "plt.imshow(PACBED)"
   ]
  },
  {
   "cell_type": "code",
   "execution_count": null,
   "metadata": {},
   "outputs": [],
   "source": []
  }
 ],
 "metadata": {
  "kernelspec": {
   "display_name": "Python 3",
   "language": "python",
   "name": "python3"
  },
  "language_info": {
   "codemirror_mode": {
    "name": "ipython",
    "version": 3
   },
   "file_extension": ".py",
   "mimetype": "text/x-python",
   "name": "python",
   "nbconvert_exporter": "python",
   "pygments_lexer": "ipython3",
   "version": "3.6.5"
  }
 },
 "nbformat": 4,
 "nbformat_minor": 2
}
