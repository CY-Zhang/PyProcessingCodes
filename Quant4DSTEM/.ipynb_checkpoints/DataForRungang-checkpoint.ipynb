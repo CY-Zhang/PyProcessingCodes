{
 "cells": [
  {
   "cell_type": "markdown",
   "metadata": {},
   "source": [
    "# Script to prepare data for Rungang\n",
    "Experiment data acquired on STO cleavage sample, data in unit of counts, resample to 183x183 frames with 160 total frames for Rungang to try his latest tensor denoising method."
   ]
  },
  {
   "cell_type": "code",
   "execution_count": 2,
   "metadata": {},
   "outputs": [],
   "source": [
    "import os\n",
    "import scipy.io as sio\n",
    "import scipy.misc as smisc\n",
    "import numpy as np\n",
    "import re as regexp\n",
    "import math\n",
    "import matplotlib.pyplot as plt\n",
    "import scipy\n",
    "\n",
    "from scipy import ndimage as ndi\n",
    "import matplotlib.pyplot as plt\n",
    "from skimage.feature import peak_local_max\n",
    "from skimage import data, img_as_float\n",
    "\n",
    "import scipy.io\n",
    "import time\n",
    "import glob,os\n",
    "import cv2\n",
    "from scipy import optimize\n",
    "from pylab import *"
   ]
  },
  {
   "cell_type": "code",
   "execution_count": 45,
   "metadata": {},
   "outputs": [],
   "source": [
    "datacube = np.zeros((183,183,160))\n",
    "start_frame = 100 # avoid first few frames which suffers from slave mode shutter artifact\n",
    "path = '/srv/home/chenyu/DEbackup/071519/S7/npy/'\n",
    "for iframe in range(start_frame,start_frame+161-1):\n",
    "    sample = np.load(path+'S7_'+format(iframe,'05')+'.npy') # load raw data in intensity counts\n",
    "    sample = sample/224  # convert into electron counts\n",
    "    resized = cv2.resize(sample, (183,183), interpolation = cv2.INTER_AREA)   # resize image into 183x183\n",
    "    resized = resized / np.sum(resized) * np.sum(sample)\n",
    "    datacube[:,:,iframe-start_frame] = resized.astype(int)"
   ]
  },
  {
   "cell_type": "code",
   "execution_count": 10,
   "metadata": {},
   "outputs": [],
   "source": [
    "# save as Matlab .mat file\n",
    "# Create a dictionary\n",
    "adict = {}\n",
    "adict['datacube'] = datacube\n",
    "sio.savemat('/srv/home/chenyu/DEbackup/071519/S7/datacube_183x183x160.mat', adict)"
   ]
  },
  {
   "cell_type": "code",
   "execution_count": 29,
   "metadata": {},
   "outputs": [],
   "source": [
    "# Create another datacube with squeezed k-space\n",
    "# Downsampling k-space by a factor of 32 and generate 16x16 k-space, which can then be squeezed into 256px\n",
    "# thus 150x150x256 datacube\n",
    "\n",
    "# This datacube contains all electron dose, and high intensity pixels could be over 1300 electrons\n",
    "\n",
    "datacube = np.zeros((150,150,256))\n",
    "for irow in range(150):\n",
    "    for icol in range(150):\n",
    "        nSample = irow*150+icol+1\n",
    "        sample = np.load(path+'S7_'+format(nSample,'05')+'.npy')\n",
    "        resized = cv2.resize(sample,(16,16),interpolation = cv2.INTER_AREA) # resize into 16x16\n",
    "        resized = resized / np.sum(resized) * np.sum(sample)\n",
    "        resized = resized / 224\n",
    "        datacube[irow,icol,:] = np.reshape(resized,16*16).astype(int)"
   ]
  },
  {
   "cell_type": "code",
   "execution_count": 53,
   "metadata": {},
   "outputs": [],
   "source": [
    "# Take 64-by-64 px in k-space, down sampling by a factor of 4, then vectorize into 256 px\n",
    "# Ignore the very first row to avoid artifact caused by shutter\n",
    "datacube = np.zeros((149,149,256))\n",
    "for irow in range(1,150):\n",
    "    for icol in range(1,150):\n",
    "        nSample = irow*150+icol+1\n",
    "        sample = np.load(path+'S7_'+format(nSample,'05')+'.npy')\n",
    "        sample = sample[100:164,100:164] # only take top 64x64px, then downsampling by a factor of 4\n",
    "        resized = cv2.resize(sample,(16,16),interpolation = cv2.INTER_AREA) # resize into 16x16\n",
    "        resized = resized / np.sum(resized) * np.sum(sample)\n",
    "        resized = resized / 224\n",
    "        datacube[irow-1,icol-1,:] = np.reshape(resized,16*16).astype(int)"
   ]
  },
  {
   "cell_type": "code",
   "execution_count": 54,
   "metadata": {},
   "outputs": [],
   "source": [
    "# save as Matlab .mat file\n",
    "# Create a dictionary\n",
    "adict = {}\n",
    "adict['datacube'] = datacube\n",
    "sio.savemat('/srv/home/chenyu/DEbackup/071519/S7/datacube_149x149x256_realspace.mat', adict)"
   ]
  },
  {
   "cell_type": "code",
   "execution_count": 55,
   "metadata": {},
   "outputs": [
    {
     "name": "stdout",
     "output_type": "stream",
     "text": [
      "25.0\n"
     ]
    },
    {
     "data": {
      "image/png": "[encoded data removed]",
      "text/plain": [
       "<Figure size 432x288 with 2 Axes>"
      ]
     },
     "metadata": {},
     "output_type": "display_data"
    }
   ],
   "source": [
    "plt.imshow(datacube[:,:,100])\n",
    "plt.colorbar()\n",
    "print(np.amax(datacube[1:-1,:]))"
   ]
  },
  {
   "cell_type": "code",
   "execution_count": null,
   "metadata": {},
   "outputs": [],
   "source": []
  }
 ],
 "metadata": {
  "kernelspec": {
   "display_name": "Python 3",
   "language": "python",
   "name": "python3"
  },
  "language_info": {
   "codemirror_mode": {
    "name": "ipython",
    "version": 3
   },
   "file_extension": ".py",
   "mimetype": "text/x-python",
   "name": "python",
   "nbconvert_exporter": "python",
   "pygments_lexer": "ipython3",
   "version": "3.6.6"
  }
 },
 "nbformat": 4,
 "nbformat_minor": 2
}
